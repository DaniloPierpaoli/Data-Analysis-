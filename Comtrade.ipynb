{
 "cells": [
  {
   "cell_type": "markdown",
   "metadata": {},
   "source": [
    "# Italian international market analysis for dairy products"
   ]
  },
  {
   "cell_type": "markdown",
   "metadata": {},
   "source": [
    "by Danilo Pierpaoli, 26/09/22. The purpose of this work is not analyse the international dairy italian market, to identify patterns in the data and distribution that can signal the sensitivity of italian market to systemtic risk. The questions we are going to try to answer are: Who are the biggest partners? How much value have the export and import? How diversified is the market? How bidirectional are the flows?\n",
    "\n",
    "We will use the United Nation Comtrade database API for this purpose."
   ]
  },
  {
   "cell_type": "code",
   "execution_count": 1,
   "metadata": {},
   "outputs": [],
   "source": [
    "%matplotlib inline\n",
    "import numpy as np\n",
    "from pandas import *\n",
    "import matplotlib.pyplot as plt\n",
    "from scipy.stats import spearmanr\n"
   ]
  },
  {
   "cell_type": "markdown",
   "metadata": {},
   "source": [
    "Link for the location is obtained by comtrade database and view link for API call. format csv had been added at the end of the link (&fmt=csv)"
   ]
  },
  {
   "cell_type": "code",
   "execution_count": 2,
   "metadata": {},
   "outputs": [],
   "source": [
    "\n",
    "LOCATION = \"http://comtrade.un.org/api/get?max=502&type=C&freq=A&px=HS&ps=2021&r=381&p=0%2Call&rg=all&cc=04%2C040110%2C040120%2C040130%2C040140%2C040150%2C040210%2C040221%2C040229%2C040291%2C040299%2C040310%2C040320%2C040390%2C040410%2C040490%2C040500%2C040510%2C040520%2C040590&fmt=csv\""
   ]
  },
  {
   "cell_type": "code",
   "execution_count": 3,
   "metadata": {},
   "outputs": [
    {
     "data": {
      "text/html": [
       "<div>\n",
       "<style scoped>\n",
       "    .dataframe tbody tr th:only-of-type {\n",
       "        vertical-align: middle;\n",
       "    }\n",
       "\n",
       "    .dataframe tbody tr th {\n",
       "        vertical-align: top;\n",
       "    }\n",
       "\n",
       "    .dataframe thead th {\n",
       "        text-align: right;\n",
       "    }\n",
       "</style>\n",
       "<table border=\"1\" class=\"dataframe\">\n",
       "  <thead>\n",
       "    <tr style=\"text-align: right;\">\n",
       "      <th></th>\n",
       "      <th>Classification</th>\n",
       "      <th>Year</th>\n",
       "      <th>Period</th>\n",
       "      <th>Period Desc.</th>\n",
       "      <th>Aggregate Level</th>\n",
       "      <th>Is Leaf Code</th>\n",
       "      <th>Trade Flow Code</th>\n",
       "      <th>Trade Flow</th>\n",
       "      <th>Reporter Code</th>\n",
       "      <th>Reporter</th>\n",
       "      <th>...</th>\n",
       "      <th>Qty</th>\n",
       "      <th>Alt Qty Unit Code</th>\n",
       "      <th>Alt Qty Unit</th>\n",
       "      <th>Alt Qty</th>\n",
       "      <th>Netweight (kg)</th>\n",
       "      <th>Gross weight (kg)</th>\n",
       "      <th>Trade Value (US$)</th>\n",
       "      <th>CIF Trade Value (US$)</th>\n",
       "      <th>FOB Trade Value (US$)</th>\n",
       "      <th>Flag</th>\n",
       "    </tr>\n",
       "  </thead>\n",
       "  <tbody>\n",
       "    <tr>\n",
       "      <th>0</th>\n",
       "      <td>H5</td>\n",
       "      <td>2021</td>\n",
       "      <td>2021</td>\n",
       "      <td>2021</td>\n",
       "      <td>2</td>\n",
       "      <td>0</td>\n",
       "      <td>1</td>\n",
       "      <td>Import</td>\n",
       "      <td>381</td>\n",
       "      <td>Italy</td>\n",
       "      <td>...</td>\n",
       "      <td>0</td>\n",
       "      <td>NaN</td>\n",
       "      <td>NaN</td>\n",
       "      <td>NaN</td>\n",
       "      <td>0.0</td>\n",
       "      <td>NaN</td>\n",
       "      <td>4412422730</td>\n",
       "      <td>NaN</td>\n",
       "      <td>NaN</td>\n",
       "      <td>4</td>\n",
       "    </tr>\n",
       "    <tr>\n",
       "      <th>1</th>\n",
       "      <td>H5</td>\n",
       "      <td>2021</td>\n",
       "      <td>2021</td>\n",
       "      <td>2021</td>\n",
       "      <td>2</td>\n",
       "      <td>0</td>\n",
       "      <td>2</td>\n",
       "      <td>Export</td>\n",
       "      <td>381</td>\n",
       "      <td>Italy</td>\n",
       "      <td>...</td>\n",
       "      <td>0</td>\n",
       "      <td>NaN</td>\n",
       "      <td>NaN</td>\n",
       "      <td>NaN</td>\n",
       "      <td>0.0</td>\n",
       "      <td>NaN</td>\n",
       "      <td>4956485386</td>\n",
       "      <td>NaN</td>\n",
       "      <td>NaN</td>\n",
       "      <td>4</td>\n",
       "    </tr>\n",
       "    <tr>\n",
       "      <th>2</th>\n",
       "      <td>H5</td>\n",
       "      <td>2021</td>\n",
       "      <td>2021</td>\n",
       "      <td>2021</td>\n",
       "      <td>2</td>\n",
       "      <td>0</td>\n",
       "      <td>3</td>\n",
       "      <td>Re-Export</td>\n",
       "      <td>381</td>\n",
       "      <td>Italy</td>\n",
       "      <td>...</td>\n",
       "      <td>0</td>\n",
       "      <td>NaN</td>\n",
       "      <td>NaN</td>\n",
       "      <td>NaN</td>\n",
       "      <td>0.0</td>\n",
       "      <td>NaN</td>\n",
       "      <td>1123405</td>\n",
       "      <td>NaN</td>\n",
       "      <td>NaN</td>\n",
       "      <td>0</td>\n",
       "    </tr>\n",
       "    <tr>\n",
       "      <th>3</th>\n",
       "      <td>H5</td>\n",
       "      <td>2021</td>\n",
       "      <td>2021</td>\n",
       "      <td>2021</td>\n",
       "      <td>6</td>\n",
       "      <td>1</td>\n",
       "      <td>1</td>\n",
       "      <td>Import</td>\n",
       "      <td>381</td>\n",
       "      <td>Italy</td>\n",
       "      <td>...</td>\n",
       "      <td>195209702</td>\n",
       "      <td>NaN</td>\n",
       "      <td>NaN</td>\n",
       "      <td>NaN</td>\n",
       "      <td>195209702.0</td>\n",
       "      <td>NaN</td>\n",
       "      <td>62565358</td>\n",
       "      <td>NaN</td>\n",
       "      <td>NaN</td>\n",
       "      <td>0</td>\n",
       "    </tr>\n",
       "    <tr>\n",
       "      <th>4</th>\n",
       "      <td>H5</td>\n",
       "      <td>2021</td>\n",
       "      <td>2021</td>\n",
       "      <td>2021</td>\n",
       "      <td>6</td>\n",
       "      <td>1</td>\n",
       "      <td>2</td>\n",
       "      <td>Export</td>\n",
       "      <td>381</td>\n",
       "      <td>Italy</td>\n",
       "      <td>...</td>\n",
       "      <td>4329676</td>\n",
       "      <td>NaN</td>\n",
       "      <td>NaN</td>\n",
       "      <td>NaN</td>\n",
       "      <td>4329676.0</td>\n",
       "      <td>NaN</td>\n",
       "      <td>5892071</td>\n",
       "      <td>NaN</td>\n",
       "      <td>NaN</td>\n",
       "      <td>0</td>\n",
       "    </tr>\n",
       "  </tbody>\n",
       "</table>\n",
       "<p>5 rows × 35 columns</p>\n",
       "</div>"
      ],
      "text/plain": [
       "  Classification  Year  Period  Period Desc.  Aggregate Level  Is Leaf Code  \\\n",
       "0             H5  2021    2021          2021                2             0   \n",
       "1             H5  2021    2021          2021                2             0   \n",
       "2             H5  2021    2021          2021                2             0   \n",
       "3             H5  2021    2021          2021                6             1   \n",
       "4             H5  2021    2021          2021                6             1   \n",
       "\n",
       "   Trade Flow Code Trade Flow  Reporter Code Reporter  ...        Qty  \\\n",
       "0                1     Import            381    Italy  ...          0   \n",
       "1                2     Export            381    Italy  ...          0   \n",
       "2                3  Re-Export            381    Italy  ...          0   \n",
       "3                1     Import            381    Italy  ...  195209702   \n",
       "4                2     Export            381    Italy  ...    4329676   \n",
       "\n",
       "   Alt Qty Unit Code Alt Qty Unit Alt Qty  Netweight (kg)  Gross weight (kg)  \\\n",
       "0                NaN          NaN     NaN             0.0                NaN   \n",
       "1                NaN          NaN     NaN             0.0                NaN   \n",
       "2                NaN          NaN     NaN             0.0                NaN   \n",
       "3                NaN          NaN     NaN     195209702.0                NaN   \n",
       "4                NaN          NaN     NaN       4329676.0                NaN   \n",
       "\n",
       "   Trade Value (US$)  CIF Trade Value (US$)  FOB Trade Value (US$)  Flag  \n",
       "0         4412422730                    NaN                    NaN     4  \n",
       "1         4956485386                    NaN                    NaN     4  \n",
       "2            1123405                    NaN                    NaN     0  \n",
       "3           62565358                    NaN                    NaN     0  \n",
       "4            5892071                    NaN                    NaN     0  \n",
       "\n",
       "[5 rows x 35 columns]"
      ]
     },
     "execution_count": 3,
     "metadata": {},
     "output_type": "execute_result"
    }
   ],
   "source": [
    "df = read_csv(LOCATION)\n",
    "df.head()"
   ]
  },
  {
   "cell_type": "code",
   "execution_count": 4,
   "metadata": {},
   "outputs": [
    {
     "data": {
      "text/plain": [
       "Classification             object\n",
       "Year                        int64\n",
       "Period                      int64\n",
       "Period Desc.                int64\n",
       "Aggregate Level             int64\n",
       "Is Leaf Code                int64\n",
       "Trade Flow Code             int64\n",
       "Trade Flow                 object\n",
       "Reporter Code               int64\n",
       "Reporter                   object\n",
       "Reporter ISO               object\n",
       "Partner Code                int64\n",
       "Partner                    object\n",
       "Partner ISO                object\n",
       "2nd Partner Code          float64\n",
       "2nd Partner               float64\n",
       "2nd Partner ISO           float64\n",
       "Customs Proc. Code        float64\n",
       "Customs                   float64\n",
       "Mode of Transport Code    float64\n",
       "Mode of Transport         float64\n",
       "Commodity Code              int64\n",
       "Commodity                  object\n",
       "Qty Unit Code               int64\n",
       "Qty Unit                   object\n",
       "Qty                         int64\n",
       "Alt Qty Unit Code         float64\n",
       "Alt Qty Unit              float64\n",
       "Alt Qty                   float64\n",
       "Netweight (kg)            float64\n",
       "Gross weight (kg)         float64\n",
       "Trade Value (US$)           int64\n",
       "CIF Trade Value (US$)     float64\n",
       "FOB Trade Value (US$)     float64\n",
       "Flag                        int64\n",
       "dtype: object"
      ]
     },
     "execution_count": 4,
     "metadata": {},
     "output_type": "execute_result"
    }
   ],
   "source": [
    "df.dtypes"
   ]
  },
  {
   "cell_type": "code",
   "execution_count": 5,
   "metadata": {
    "scrolled": true
   },
   "outputs": [
    {
     "data": {
      "text/plain": [
       "0      381\n",
       "1      381\n",
       "2      381\n",
       "3      381\n",
       "4      381\n",
       "      ... \n",
       "497    381\n",
       "498    381\n",
       "499    381\n",
       "500    381\n",
       "501    381\n",
       "Name: Reporter Code, Length: 502, dtype: int64"
      ]
     },
     "execution_count": 5,
     "metadata": {},
     "output_type": "execute_result"
    }
   ],
   "source": [
    "df['Reporter Code']"
   ]
  },
  {
   "cell_type": "markdown",
   "metadata": {},
   "source": [
    "We can see that in loading the CSV file, the columns data types commodity code and reporter code had been setted to int64, which dropped the 0. In fact the commodity code can be 040510 and not 40510. Similarly reported code is 0381. We reload again our dataframe considering the data types of these column as strings."
   ]
  },
  {
   "cell_type": "code",
   "execution_count": 6,
   "metadata": {},
   "outputs": [
    {
     "data": {
      "text/plain": [
       "Classification             object\n",
       "Year                        int64\n",
       "Period                      int64\n",
       "Period Desc.                int64\n",
       "Aggregate Level             int64\n",
       "Is Leaf Code                int64\n",
       "Trade Flow Code             int64\n",
       "Trade Flow                 object\n",
       "Reporter Code              object\n",
       "Reporter                   object\n",
       "Reporter ISO               object\n",
       "Partner Code                int64\n",
       "Partner                    object\n",
       "Partner ISO                object\n",
       "2nd Partner Code          float64\n",
       "2nd Partner               float64\n",
       "2nd Partner ISO           float64\n",
       "Customs Proc. Code        float64\n",
       "Customs                   float64\n",
       "Mode of Transport Code    float64\n",
       "Mode of Transport         float64\n",
       "Commodity Code             object\n",
       "Commodity                  object\n",
       "Qty Unit Code               int64\n",
       "Qty Unit                   object\n",
       "Qty                         int64\n",
       "Alt Qty Unit Code         float64\n",
       "Alt Qty Unit              float64\n",
       "Alt Qty                   float64\n",
       "Netweight (kg)            float64\n",
       "Gross weight (kg)         float64\n",
       "Trade Value (US$)           int64\n",
       "CIF Trade Value (US$)     float64\n",
       "FOB Trade Value (US$)     float64\n",
       "Flag                        int64\n",
       "dtype: object"
      ]
     },
     "execution_count": 6,
     "metadata": {},
     "output_type": "execute_result"
    }
   ],
   "source": [
    "df = read_csv(LOCATION, dtype = {'Reporter Code':str, 'Commodity Code':str})\n",
    "df.dtypes"
   ]
  },
  {
   "cell_type": "markdown",
   "metadata": {},
   "source": [
    "Now we can drop all the columns we are not interested to, leaving only the relevant for analysis one."
   ]
  },
  {
   "cell_type": "code",
   "execution_count": 7,
   "metadata": {},
   "outputs": [
    {
     "data": {
      "text/html": [
       "<div>\n",
       "<style scoped>\n",
       "    .dataframe tbody tr th:only-of-type {\n",
       "        vertical-align: middle;\n",
       "    }\n",
       "\n",
       "    .dataframe tbody tr th {\n",
       "        vertical-align: top;\n",
       "    }\n",
       "\n",
       "    .dataframe thead th {\n",
       "        text-align: right;\n",
       "    }\n",
       "</style>\n",
       "<table border=\"1\" class=\"dataframe\">\n",
       "  <thead>\n",
       "    <tr style=\"text-align: right;\">\n",
       "      <th></th>\n",
       "      <th>Year</th>\n",
       "      <th>Period</th>\n",
       "      <th>Trade Flow</th>\n",
       "      <th>Reporter</th>\n",
       "      <th>Partner</th>\n",
       "      <th>Commodity</th>\n",
       "      <th>Commodity Code</th>\n",
       "      <th>Trade Value (US$)</th>\n",
       "    </tr>\n",
       "  </thead>\n",
       "  <tbody>\n",
       "    <tr>\n",
       "      <th>0</th>\n",
       "      <td>2021</td>\n",
       "      <td>2021</td>\n",
       "      <td>Import</td>\n",
       "      <td>Italy</td>\n",
       "      <td>World</td>\n",
       "      <td>Dairy produce; birds' eggs; natural honey; edi...</td>\n",
       "      <td>04</td>\n",
       "      <td>4412422730</td>\n",
       "    </tr>\n",
       "    <tr>\n",
       "      <th>1</th>\n",
       "      <td>2021</td>\n",
       "      <td>2021</td>\n",
       "      <td>Export</td>\n",
       "      <td>Italy</td>\n",
       "      <td>World</td>\n",
       "      <td>Dairy produce; birds' eggs; natural honey; edi...</td>\n",
       "      <td>04</td>\n",
       "      <td>4956485386</td>\n",
       "    </tr>\n",
       "    <tr>\n",
       "      <th>2</th>\n",
       "      <td>2021</td>\n",
       "      <td>2021</td>\n",
       "      <td>Re-Export</td>\n",
       "      <td>Italy</td>\n",
       "      <td>World</td>\n",
       "      <td>Dairy produce; birds' eggs; natural honey; edi...</td>\n",
       "      <td>04</td>\n",
       "      <td>1123405</td>\n",
       "    </tr>\n",
       "    <tr>\n",
       "      <th>3</th>\n",
       "      <td>2021</td>\n",
       "      <td>2021</td>\n",
       "      <td>Import</td>\n",
       "      <td>Italy</td>\n",
       "      <td>World</td>\n",
       "      <td>Dairy produce; milk and cream, not concentrate...</td>\n",
       "      <td>040110</td>\n",
       "      <td>62565358</td>\n",
       "    </tr>\n",
       "    <tr>\n",
       "      <th>4</th>\n",
       "      <td>2021</td>\n",
       "      <td>2021</td>\n",
       "      <td>Export</td>\n",
       "      <td>Italy</td>\n",
       "      <td>World</td>\n",
       "      <td>Dairy produce; milk and cream, not concentrate...</td>\n",
       "      <td>040110</td>\n",
       "      <td>5892071</td>\n",
       "    </tr>\n",
       "  </tbody>\n",
       "</table>\n",
       "</div>"
      ],
      "text/plain": [
       "   Year  Period Trade Flow Reporter Partner  \\\n",
       "0  2021    2021     Import    Italy   World   \n",
       "1  2021    2021     Export    Italy   World   \n",
       "2  2021    2021  Re-Export    Italy   World   \n",
       "3  2021    2021     Import    Italy   World   \n",
       "4  2021    2021     Export    Italy   World   \n",
       "\n",
       "                                           Commodity Commodity Code  \\\n",
       "0  Dairy produce; birds' eggs; natural honey; edi...             04   \n",
       "1  Dairy produce; birds' eggs; natural honey; edi...             04   \n",
       "2  Dairy produce; birds' eggs; natural honey; edi...             04   \n",
       "3  Dairy produce; milk and cream, not concentrate...         040110   \n",
       "4  Dairy produce; milk and cream, not concentrate...         040110   \n",
       "\n",
       "   Trade Value (US$)  \n",
       "0         4412422730  \n",
       "1         4956485386  \n",
       "2            1123405  \n",
       "3           62565358  \n",
       "4            5892071  "
      ]
     },
     "execution_count": 7,
     "metadata": {},
     "output_type": "execute_result"
    }
   ],
   "source": [
    "COLUMNS = ['Year', 'Period','Trade Flow','Reporter', 'Partner', 'Commodity','Commodity Code','Trade Value (US$)']\n",
    "df = df[COLUMNS]\n",
    "df.head()"
   ]
  },
  {
   "cell_type": "markdown",
   "metadata": {},
   "source": [
    "Below the list of dairy product traded:"
   ]
  },
  {
   "cell_type": "code",
   "execution_count": 8,
   "metadata": {},
   "outputs": [
    {
     "data": {
      "text/plain": [
       "Commodity Code\n",
       "04        [Dairy produce; birds' eggs; natural honey; ed...\n",
       "040110    [Dairy produce; milk and cream, not concentrat...\n",
       "040120    [Dairy produce; milk and cream, not concentrat...\n",
       "040140    [Dairy produce; milk and cream, not concentrat...\n",
       "040150    [Dairy produce; milk and cream, not concentrat...\n",
       "040210    [Dairy produce; milk and cream, concentrated o...\n",
       "040221    [Dairy produce; milk and cream, concentrated, ...\n",
       "040229    [Dairy produce; milk and cream, containing add...\n",
       "040291    [Dairy produce; milk and cream, concentrated, ...\n",
       "040299    [Dairy produce; milk and cream, containing add...\n",
       "040310    [Dairy produce; yoghurt, whether or not concen...\n",
       "040390    [Dairy produce; buttermilk, curdled milk or cr...\n",
       "040410    [Dairy produce; whey, whether or not concentra...\n",
       "040490    [Dairy produce; natural milk constituents (exc...\n",
       "040510           [Dairy produce; derived from milk, butter]\n",
       "040520                       [Dairy produce; dairy spreads]\n",
       "040590    [Dairy produce; fats and oils derived from mil...\n",
       "Name: Commodity, dtype: object"
      ]
     },
     "execution_count": 8,
     "metadata": {},
     "output_type": "execute_result"
    }
   ],
   "source": [
    "df.groupby('Commodity Code')['Commodity'].apply(lambda x: np.unique(x))"
   ]
  },
  {
   "cell_type": "markdown",
   "metadata": {},
   "source": [
    "Now we are going to separate the dataframe in two groups: one with whole world as a partner and the other containing all the single countries."
   ]
  },
  {
   "cell_type": "code",
   "execution_count": 9,
   "metadata": {},
   "outputs": [],
   "source": [
    "df_world = df[df['Partner'] == 'World']\n",
    "df_countries = df[df['Partner'] != 'World']\n"
   ]
  },
  {
   "cell_type": "markdown",
   "metadata": {},
   "source": [
    "We can now subset the data and sort values to immediately see who are the biggest partner of Italy in import and export of dairy."
   ]
  },
  {
   "cell_type": "code",
   "execution_count": 10,
   "metadata": {},
   "outputs": [
    {
     "data": {
      "text/html": [
       "<div>\n",
       "<style scoped>\n",
       "    .dataframe tbody tr th:only-of-type {\n",
       "        vertical-align: middle;\n",
       "    }\n",
       "\n",
       "    .dataframe tbody tr th {\n",
       "        vertical-align: top;\n",
       "    }\n",
       "\n",
       "    .dataframe thead th {\n",
       "        text-align: right;\n",
       "    }\n",
       "</style>\n",
       "<table border=\"1\" class=\"dataframe\">\n",
       "  <thead>\n",
       "    <tr style=\"text-align: right;\">\n",
       "      <th></th>\n",
       "      <th>Year</th>\n",
       "      <th>Period</th>\n",
       "      <th>Trade Flow</th>\n",
       "      <th>Reporter</th>\n",
       "      <th>Partner</th>\n",
       "      <th>Commodity</th>\n",
       "      <th>Commodity Code</th>\n",
       "      <th>Trade Value (US$)</th>\n",
       "    </tr>\n",
       "  </thead>\n",
       "  <tbody>\n",
       "    <tr>\n",
       "      <th>434</th>\n",
       "      <td>2021</td>\n",
       "      <td>2021</td>\n",
       "      <td>Import</td>\n",
       "      <td>Italy</td>\n",
       "      <td>Germany</td>\n",
       "      <td>Dairy produce; birds' eggs; natural honey; edi...</td>\n",
       "      <td>04</td>\n",
       "      <td>1495752912</td>\n",
       "    </tr>\n",
       "    <tr>\n",
       "      <th>419</th>\n",
       "      <td>2021</td>\n",
       "      <td>2021</td>\n",
       "      <td>Import</td>\n",
       "      <td>Italy</td>\n",
       "      <td>France</td>\n",
       "      <td>Dairy produce; birds' eggs; natural honey; edi...</td>\n",
       "      <td>04</td>\n",
       "      <td>630463229</td>\n",
       "    </tr>\n",
       "    <tr>\n",
       "      <th>120</th>\n",
       "      <td>2021</td>\n",
       "      <td>2021</td>\n",
       "      <td>Import</td>\n",
       "      <td>Italy</td>\n",
       "      <td>Belgium</td>\n",
       "      <td>Dairy produce; birds' eggs; natural honey; edi...</td>\n",
       "      <td>04</td>\n",
       "      <td>311624945</td>\n",
       "    </tr>\n",
       "    <tr>\n",
       "      <th>105</th>\n",
       "      <td>2021</td>\n",
       "      <td>2021</td>\n",
       "      <td>Import</td>\n",
       "      <td>Italy</td>\n",
       "      <td>Austria</td>\n",
       "      <td>Dairy produce; birds' eggs; natural honey; edi...</td>\n",
       "      <td>04</td>\n",
       "      <td>267199363</td>\n",
       "    </tr>\n",
       "    <tr>\n",
       "      <th>473</th>\n",
       "      <td>2021</td>\n",
       "      <td>2021</td>\n",
       "      <td>Import</td>\n",
       "      <td>Italy</td>\n",
       "      <td>Greece</td>\n",
       "      <td>Dairy produce; birds' eggs; natural honey; edi...</td>\n",
       "      <td>04</td>\n",
       "      <td>192036541</td>\n",
       "    </tr>\n",
       "  </tbody>\n",
       "</table>\n",
       "</div>"
      ],
      "text/plain": [
       "     Year  Period Trade Flow Reporter  Partner  \\\n",
       "434  2021    2021     Import    Italy  Germany   \n",
       "419  2021    2021     Import    Italy   France   \n",
       "120  2021    2021     Import    Italy  Belgium   \n",
       "105  2021    2021     Import    Italy  Austria   \n",
       "473  2021    2021     Import    Italy   Greece   \n",
       "\n",
       "                                             Commodity Commodity Code  \\\n",
       "434  Dairy produce; birds' eggs; natural honey; edi...             04   \n",
       "419  Dairy produce; birds' eggs; natural honey; edi...             04   \n",
       "120  Dairy produce; birds' eggs; natural honey; edi...             04   \n",
       "105  Dairy produce; birds' eggs; natural honey; edi...             04   \n",
       "473  Dairy produce; birds' eggs; natural honey; edi...             04   \n",
       "\n",
       "     Trade Value (US$)  \n",
       "434         1495752912  \n",
       "419          630463229  \n",
       "120          311624945  \n",
       "105          267199363  \n",
       "473          192036541  "
      ]
     },
     "execution_count": 10,
     "metadata": {},
     "output_type": "execute_result"
    }
   ],
   "source": [
    "df_countries_import = df_countries[df_countries['Trade Flow'] == 'Import']\n",
    "df_countries_import.sort_values('Trade Value (US$)',ascending = False).head(5)"
   ]
  },
  {
   "cell_type": "code",
   "execution_count": 11,
   "metadata": {
    "scrolled": true
   },
   "outputs": [
    {
     "data": {
      "text/html": [
       "<div>\n",
       "<style scoped>\n",
       "    .dataframe tbody tr th:only-of-type {\n",
       "        vertical-align: middle;\n",
       "    }\n",
       "\n",
       "    .dataframe tbody tr th {\n",
       "        vertical-align: top;\n",
       "    }\n",
       "\n",
       "    .dataframe thead th {\n",
       "        text-align: right;\n",
       "    }\n",
       "</style>\n",
       "<table border=\"1\" class=\"dataframe\">\n",
       "  <thead>\n",
       "    <tr style=\"text-align: right;\">\n",
       "      <th></th>\n",
       "      <th>Year</th>\n",
       "      <th>Period</th>\n",
       "      <th>Trade Flow</th>\n",
       "      <th>Reporter</th>\n",
       "      <th>Partner</th>\n",
       "      <th>Commodity</th>\n",
       "      <th>Commodity Code</th>\n",
       "      <th>Trade Value (US$)</th>\n",
       "    </tr>\n",
       "  </thead>\n",
       "  <tbody>\n",
       "    <tr>\n",
       "      <th>420</th>\n",
       "      <td>2021</td>\n",
       "      <td>2021</td>\n",
       "      <td>Export</td>\n",
       "      <td>Italy</td>\n",
       "      <td>France</td>\n",
       "      <td>Dairy produce; birds' eggs; natural honey; edi...</td>\n",
       "      <td>04</td>\n",
       "      <td>909742528</td>\n",
       "    </tr>\n",
       "    <tr>\n",
       "      <th>435</th>\n",
       "      <td>2021</td>\n",
       "      <td>2021</td>\n",
       "      <td>Export</td>\n",
       "      <td>Italy</td>\n",
       "      <td>Germany</td>\n",
       "      <td>Dairy produce; birds' eggs; natural honey; edi...</td>\n",
       "      <td>04</td>\n",
       "      <td>778425180</td>\n",
       "    </tr>\n",
       "    <tr>\n",
       "      <th>121</th>\n",
       "      <td>2021</td>\n",
       "      <td>2021</td>\n",
       "      <td>Export</td>\n",
       "      <td>Italy</td>\n",
       "      <td>Belgium</td>\n",
       "      <td>Dairy produce; birds' eggs; natural honey; edi...</td>\n",
       "      <td>04</td>\n",
       "      <td>232329887</td>\n",
       "    </tr>\n",
       "    <tr>\n",
       "      <th>106</th>\n",
       "      <td>2021</td>\n",
       "      <td>2021</td>\n",
       "      <td>Export</td>\n",
       "      <td>Italy</td>\n",
       "      <td>Austria</td>\n",
       "      <td>Dairy produce; birds' eggs; natural honey; edi...</td>\n",
       "      <td>04</td>\n",
       "      <td>147673661</td>\n",
       "    </tr>\n",
       "    <tr>\n",
       "      <th>200</th>\n",
       "      <td>2021</td>\n",
       "      <td>2021</td>\n",
       "      <td>Export</td>\n",
       "      <td>Italy</td>\n",
       "      <td>Canada</td>\n",
       "      <td>Dairy produce; birds' eggs; natural honey; edi...</td>\n",
       "      <td>04</td>\n",
       "      <td>92859418</td>\n",
       "    </tr>\n",
       "  </tbody>\n",
       "</table>\n",
       "</div>"
      ],
      "text/plain": [
       "     Year  Period Trade Flow Reporter  Partner  \\\n",
       "420  2021    2021     Export    Italy   France   \n",
       "435  2021    2021     Export    Italy  Germany   \n",
       "121  2021    2021     Export    Italy  Belgium   \n",
       "106  2021    2021     Export    Italy  Austria   \n",
       "200  2021    2021     Export    Italy   Canada   \n",
       "\n",
       "                                             Commodity Commodity Code  \\\n",
       "420  Dairy produce; birds' eggs; natural honey; edi...             04   \n",
       "435  Dairy produce; birds' eggs; natural honey; edi...             04   \n",
       "121  Dairy produce; birds' eggs; natural honey; edi...             04   \n",
       "106  Dairy produce; birds' eggs; natural honey; edi...             04   \n",
       "200  Dairy produce; birds' eggs; natural honey; edi...             04   \n",
       "\n",
       "     Trade Value (US$)  \n",
       "420          909742528  \n",
       "435          778425180  \n",
       "121          232329887  \n",
       "106          147673661  \n",
       "200           92859418  "
      ]
     },
     "execution_count": 11,
     "metadata": {},
     "output_type": "execute_result"
    }
   ],
   "source": [
    "df_countries_export = df_countries[df_countries['Trade Flow'] == 'Export']\n",
    "df_countries_export.sort_values('Trade Value (US$)', ascending = False).head()"
   ]
  },
  {
   "cell_type": "markdown",
   "metadata": {},
   "source": [
    "Now we are interested to see the biggest partners per commodity."
   ]
  },
  {
   "cell_type": "code",
   "execution_count": 12,
   "metadata": {},
   "outputs": [
    {
     "data": {
      "text/plain": [
       "Commodity Code\n",
       "04        5693708969\n",
       "040310     301573004\n",
       "040120     250927083\n",
       "040210     186420163\n",
       "040510     169500787\n",
       "040410     167095801\n",
       "040390     143836463\n",
       "040150     142392121\n",
       "040221      95897748\n",
       "040590      79865563\n",
       "040490      78690951\n",
       "040110      62250492\n",
       "040291      40344053\n",
       "040229      17635134\n",
       "040299      10380829\n",
       "040140       3970267\n",
       "040520       1154629\n",
       "Name: Trade Value (US$), dtype: int64"
      ]
     },
     "execution_count": 12,
     "metadata": {},
     "output_type": "execute_result"
    }
   ],
   "source": [
    "df_countries.groupby('Commodity Code')['Trade Value (US$)'].sum().sort_values(ascending = False)"
   ]
  },
  {
   "cell_type": "code",
   "execution_count": 13,
   "metadata": {},
   "outputs": [],
   "source": [
    "#commodity_groups = df_countries.groupby(['Commodity Code','Partner','Trade Flow','Commodity'], as_index= False)['Trade Value (US$)'].sum()\n",
    "#commodity_groups = commodity_groups.sort_values('Trade Value (US$)', ascending = False)\n",
    "df_countries = df_countries.sort_values(['Commodity Code','Trade Value (US$)'], ascending = False)\n",
    "counter = 0\n",
    "\n",
    "import_codes = {}\n",
    "export_codes = {}\n",
    "biggest_partners = []\n",
    "def create_row(dataframe,counter):\n",
    "    partner_row = []\n",
    "    amount_traded = df_countries.iloc[counter]['Trade Value (US$)']\n",
    "    country_of_trade = df_countries.iloc[counter]['Partner']\n",
    "    flow_type = df_countries.iloc[counter]['Trade Flow']\n",
    "    commodity_name = df_countries.iloc[counter]['Commodity']\n",
    "    partner_row.extend([country_of_trade,flow_type,commodity_name,code,amount_traded])\n",
    "    return partner_row\n",
    "       \n",
    "    \n",
    "    \n",
    "for code in df_countries['Commodity Code']:\n",
    "    if df_countries.iloc[counter]['Trade Flow'] == 'Import':\n",
    "        try:\n",
    "            import_codes[code]\n",
    "        except KeyError:\n",
    "            export_row = create_row(df_countries,counter)  \n",
    "            biggest_partners.append(export_row)                 \n",
    "            import_codes[code] = True\n",
    "    else:\n",
    "        try:\n",
    "            export_codes[code]\n",
    "        except KeyError:\n",
    "            import_row = create_row(df_countries,counter)\n",
    "            biggest_partners.append(import_row)\n",
    "            export_codes[code] = True   \n",
    "        else:\n",
    "            pass\n",
    "    \n",
    "    counter += 1\n",
    "\n"
   ]
  },
  {
   "cell_type": "markdown",
   "metadata": {},
   "source": [
    "We can see below Italy's biggest sources of commodity, per each commodity type. Germany is the biggest exporter of 8 dairy commodities towards Italy, followed by 4 by France, 3 Belgium and 1 Austria "
   ]
  },
  {
   "cell_type": "code",
   "execution_count": 14,
   "metadata": {
    "scrolled": true
   },
   "outputs": [
    {
     "data": {
      "text/html": [
       "<div>\n",
       "<style scoped>\n",
       "    .dataframe tbody tr th:only-of-type {\n",
       "        vertical-align: middle;\n",
       "    }\n",
       "\n",
       "    .dataframe tbody tr th {\n",
       "        vertical-align: top;\n",
       "    }\n",
       "\n",
       "    .dataframe thead th {\n",
       "        text-align: right;\n",
       "    }\n",
       "</style>\n",
       "<table border=\"1\" class=\"dataframe\">\n",
       "  <thead>\n",
       "    <tr style=\"text-align: right;\">\n",
       "      <th></th>\n",
       "      <th>number_of_commodities</th>\n",
       "    </tr>\n",
       "    <tr>\n",
       "      <th>Country of trade</th>\n",
       "      <th></th>\n",
       "    </tr>\n",
       "  </thead>\n",
       "  <tbody>\n",
       "    <tr>\n",
       "      <th>Austria</th>\n",
       "      <td>1</td>\n",
       "    </tr>\n",
       "    <tr>\n",
       "      <th>Belgium</th>\n",
       "      <td>3</td>\n",
       "    </tr>\n",
       "    <tr>\n",
       "      <th>France</th>\n",
       "      <td>4</td>\n",
       "    </tr>\n",
       "    <tr>\n",
       "      <th>Germany</th>\n",
       "      <td>9</td>\n",
       "    </tr>\n",
       "  </tbody>\n",
       "</table>\n",
       "</div>"
      ],
      "text/plain": [
       "                  number_of_commodities\n",
       "Country of trade                       \n",
       "Austria                               1\n",
       "Belgium                               3\n",
       "France                                4\n",
       "Germany                               9"
      ]
     },
     "execution_count": 14,
     "metadata": {},
     "output_type": "execute_result"
    }
   ],
   "source": [
    "\n",
    "columns = ['Country of trade', 'Flow type','Commodity Name','Code','Amount traded (US$)']\n",
    "dataframe = DataFrame(columns = columns, data = biggest_partners)   \n",
    "dataframe = dataframe.sort_values('Amount traded (US$)', ascending = False)\n",
    "dataframe_import = dataframe[dataframe['Flow type'] == 'Import']\n",
    "dataframe_export = dataframe[dataframe['Flow type'] == 'Export']\n",
    "\n",
    "#Here method groupby is applied: The data is grouped for the country, then the aggregate method is applied defining a new column:\n",
    "dataframe_import.groupby('Country of trade').agg(\n",
    "    number_of_commodities= NamedAgg(column=\"Country of trade\", aggfunc=\"count\"))\n"
   ]
  },
  {
   "cell_type": "markdown",
   "metadata": {},
   "source": [
    "Graph representing the amount of business for the biggest import partners "
   ]
  },
  {
   "cell_type": "code",
   "execution_count": 15,
   "metadata": {
    "scrolled": true
   },
   "outputs": [
    {
     "data": {
      "text/plain": [
       "<matplotlib.axes._subplots.AxesSubplot at 0x1086f5750>"
      ]
     },
     "execution_count": 15,
     "metadata": {},
     "output_type": "execute_result"
    },
    {
     "data": {
      "image/png": "[encoded data removed]",
      "text/plain": [
       "<Figure size 864x216 with 1 Axes>"
      ]
     },
     "metadata": {
      "needs_background": "light"
     },
     "output_type": "display_data"
    }
   ],
   "source": [
    "\n",
    "imports_aggregated = dataframe_import.groupby(['Country of trade'],as_index=False)['Amount traded (US$)'].sum()\n",
    "imports_aggregated.plot(x = 'Country of trade',y = 'Amount traded (US$)',logx = True,  kind = 'barh', figsize = (12,3))"
   ]
  },
  {
   "cell_type": "markdown",
   "metadata": {},
   "source": [
    "We repeat the same process for exports."
   ]
  },
  {
   "cell_type": "code",
   "execution_count": 16,
   "metadata": {},
   "outputs": [
    {
     "data": {
      "text/html": [
       "<div>\n",
       "<style scoped>\n",
       "    .dataframe tbody tr th:only-of-type {\n",
       "        vertical-align: middle;\n",
       "    }\n",
       "\n",
       "    .dataframe tbody tr th {\n",
       "        vertical-align: top;\n",
       "    }\n",
       "\n",
       "    .dataframe thead th {\n",
       "        text-align: right;\n",
       "    }\n",
       "</style>\n",
       "<table border=\"1\" class=\"dataframe\">\n",
       "  <thead>\n",
       "    <tr style=\"text-align: right;\">\n",
       "      <th></th>\n",
       "      <th>number_of_commodities</th>\n",
       "    </tr>\n",
       "    <tr>\n",
       "      <th>Country of trade</th>\n",
       "      <th></th>\n",
       "    </tr>\n",
       "  </thead>\n",
       "  <tbody>\n",
       "    <tr>\n",
       "      <th>Albania</th>\n",
       "      <td>3</td>\n",
       "    </tr>\n",
       "    <tr>\n",
       "      <th>Australia</th>\n",
       "      <td>1</td>\n",
       "    </tr>\n",
       "    <tr>\n",
       "      <th>Belgium</th>\n",
       "      <td>3</td>\n",
       "    </tr>\n",
       "    <tr>\n",
       "      <th>China</th>\n",
       "      <td>3</td>\n",
       "    </tr>\n",
       "    <tr>\n",
       "      <th>Denmark</th>\n",
       "      <td>1</td>\n",
       "    </tr>\n",
       "    <tr>\n",
       "      <th>France</th>\n",
       "      <td>3</td>\n",
       "    </tr>\n",
       "    <tr>\n",
       "      <th>Germany</th>\n",
       "      <td>3</td>\n",
       "    </tr>\n",
       "  </tbody>\n",
       "</table>\n",
       "</div>"
      ],
      "text/plain": [
       "                  number_of_commodities\n",
       "Country of trade                       \n",
       "Albania                               3\n",
       "Australia                             1\n",
       "Belgium                               3\n",
       "China                                 3\n",
       "Denmark                               1\n",
       "France                                3\n",
       "Germany                               3"
      ]
     },
     "execution_count": 16,
     "metadata": {},
     "output_type": "execute_result"
    }
   ],
   "source": [
    "dataframe_export.groupby('Country of trade').agg(\n",
    "    number_of_commodities= NamedAgg(column=\"Country of trade\", aggfunc=\"count\"))"
   ]
  },
  {
   "cell_type": "markdown",
   "metadata": {},
   "source": [
    "We can see how for 5 countries are the biggest importer for 3 different commodities in Italy, suggesting that Italy's economy shares strong partnership with these countries. We can now visualise the amount of trade for these commodities."
   ]
  },
  {
   "cell_type": "code",
   "execution_count": 17,
   "metadata": {
    "scrolled": true
   },
   "outputs": [
    {
     "data": {
      "text/plain": [
       "<matplotlib.axes._subplots.AxesSubplot at 0x1a1d5b8c90>"
      ]
     },
     "execution_count": 17,
     "metadata": {},
     "output_type": "execute_result"
    },
    {
     "data": {
      "image/png": "[encoded data removed]",
      "text/plain": [
       "<Figure size 864x288 with 1 Axes>"
      ]
     },
     "metadata": {
      "needs_background": "light"
     },
     "output_type": "display_data"
    }
   ],
   "source": [
    "export_aggregate = dataframe_export.groupby(['Country of trade'],as_index=False)['Amount traded (US$)'].sum()\n",
    "export_aggregate.plot(x = 'Country of trade',y = 'Amount traded (US$)',logx = True,  kind = 'barh', figsize = (12,4))"
   ]
  },
  {
   "cell_type": "code",
   "execution_count": 18,
   "metadata": {
    "scrolled": true
   },
   "outputs": [
    {
     "data": {
      "text/plain": [
       "Country of trade\n",
       "Albania        6748734\n",
       "Australia       418926\n",
       "Belgium       12964128\n",
       "China         20283967\n",
       "Denmark         287472\n",
       "France       959780684\n",
       "Germany       19025603\n",
       "Name: Amount traded (US$), dtype: int64"
      ]
     },
     "execution_count": 18,
     "metadata": {},
     "output_type": "execute_result"
    }
   ],
   "source": [
    "dataframe_export.groupby('Country of trade')['Amount traded (US$)'].sum()"
   ]
  },
  {
   "cell_type": "code",
   "execution_count": 19,
   "metadata": {},
   "outputs": [
    {
     "data": {
      "text/plain": [
       "Country of trade\n",
       "Austria      81678433\n",
       "Belgium      78547195\n",
       "France      141359730\n",
       "Germany    1849435239\n",
       "Name: Amount traded (US$), dtype: int64"
      ]
     },
     "execution_count": 19,
     "metadata": {},
     "output_type": "execute_result"
    }
   ],
   "source": [
    "dataframe_import.groupby('Country of trade')['Amount traded (US$)'].sum()"
   ]
  },
  {
   "cell_type": "markdown",
   "metadata": {},
   "source": [
    "It's clear that the italian market for dairy products has come biggest partner of import Germany and France for export. We can now try and group the original dataframe and confirm for all dairy commodities this trend."
   ]
  },
  {
   "cell_type": "code",
   "execution_count": 20,
   "metadata": {
    "scrolled": true
   },
   "outputs": [
    {
     "data": {
      "text/plain": [
       "Partner\n",
       "Germany                   2871450831\n",
       "France                    2004399680\n",
       "Belgium                    743589019\n",
       "Austria                    648527048\n",
       "Greece                     395258567\n",
       "Czechia                    218396675\n",
       "China                      132101657\n",
       "Denmark                    106610320\n",
       "Canada                      93025637\n",
       "Australia                   59191971\n",
       "Finland                     33302493\n",
       "Croatia                     31576570\n",
       "Bulgaria                    26233722\n",
       "Albania                     24195618\n",
       "Estonia                     17907590\n",
       "Cyprus                       7262566\n",
       "Brazil                       4719171\n",
       "Chile                        4119302\n",
       "Ethiopia                     3448324\n",
       "Dominican Rep.               2782637\n",
       "Belarus                      2280244\n",
       "Colombia                     2169589\n",
       "Georgia                      1996384\n",
       "Argentina                    1782044\n",
       "Costa Rica                   1645524\n",
       "Azerbaijan                   1015904\n",
       "Bosnia Herzegovina            920613\n",
       "Armenia                       914850\n",
       "Bahrain                       789582\n",
       "Ecuador                       652666\n",
       "Guatemala                     556358\n",
       "Dem. Rep. of the Congo        474734\n",
       "Ghana                         341433\n",
       "Algeria                       312914\n",
       "Cuba                          288930\n",
       "Cabo Verde                    217168\n",
       "Afghanistan                   208110\n",
       "Congo                         154222\n",
       "Cameroon                      101730\n",
       "Brunei Darussalam              89708\n",
       "El Salvador                    81803\n",
       "Sri Lanka                      80709\n",
       "Cambodia                       78235\n",
       "Cayman Isds                    75040\n",
       "Bermuda                        63340\n",
       "Barbados                       46909\n",
       "Myanmar                        43967\n",
       "Angola                         39560\n",
       "Djibouti                       31280\n",
       "State of Palestine             31077\n",
       "Burundi                        23911\n",
       "Fiji                           13251\n",
       "Cook Isds                      11148\n",
       "Andorra                         7107\n",
       "Grenada                         2769\n",
       "Antigua and Barbuda             1846\n",
       "Name: Trade Value (US$), dtype: int64"
      ]
     },
     "execution_count": 20,
     "metadata": {},
     "output_type": "execute_result"
    }
   ],
   "source": [
    "aggregated_partners = df_countries.groupby('Partner')['Trade Value (US$)'].sum().sort_values(ascending = False)\n",
    "aggregated_partners"
   ]
  },
  {
   "cell_type": "markdown",
   "metadata": {},
   "source": [
    "We are going to consider the 5 biggest partners."
   ]
  },
  {
   "cell_type": "code",
   "execution_count": 21,
   "metadata": {
    "scrolled": false
   },
   "outputs": [
    {
     "data": {
      "text/plain": [
       "<matplotlib.axes._subplots.AxesSubplot at 0x1a1d7cbd90>"
      ]
     },
     "execution_count": 21,
     "metadata": {},
     "output_type": "execute_result"
    },
    {
     "data": {
      "image/png": "[encoded data removed]",
      "text/plain": [
       "<Figure size 864x360 with 1 Axes>"
      ]
     },
     "metadata": {
      "needs_background": "light"
     },
     "output_type": "display_data"
    }
   ],
   "source": [
    "aggregated_partners.head(4).plot(kind = 'barh', figsize = (12,5))"
   ]
  },
  {
   "cell_type": "markdown",
   "metadata": {},
   "source": [
    "We can plot a chart now to show import VS export. Italy imports a significant amount more dairy products examined than the amount exported. "
   ]
  },
  {
   "cell_type": "code",
   "execution_count": 22,
   "metadata": {
    "scrolled": true
   },
   "outputs": [
    {
     "data": {
      "text/plain": [
       "<matplotlib.axes._subplots.AxesSubplot at 0x1a1d84abd0>"
      ]
     },
     "execution_count": 22,
     "metadata": {},
     "output_type": "execute_result"
    },
    {
     "data": {
      "image/png": "[encoded data removed]",
      "text/plain": [
       "<Figure size 1008x288 with 1 Axes>"
      ]
     },
     "metadata": {
      "needs_background": "light"
     },
     "output_type": "display_data"
    }
   ],
   "source": [
    "df_countries.groupby('Trade Flow')['Trade Value (US$)'].sum().plot(kind = 'barh', figsize =(14,4),grid = True )"
   ]
  },
  {
   "cell_type": "markdown",
   "metadata": {},
   "source": [
    "Now would be finally interesting to see how much variability the volume of trade for or towards each country has for commodity."
   ]
  },
  {
   "cell_type": "code",
   "execution_count": 23,
   "metadata": {
    "scrolled": true
   },
   "outputs": [
    {
     "data": {
      "text/plain": [
       "Partner\n",
       "Germany     3.563295e+08\n",
       "France      1.528151e+08\n",
       "Belgium     7.639090e+07\n",
       "Greece      7.016323e+07\n",
       "Austria     6.531998e+07\n",
       "Czechia     4.184808e+07\n",
       "Denmark     9.657741e+06\n",
       "Estonia     5.834646e+06\n",
       "Finland     3.215155e+06\n",
       "Croatia     2.096163e+06\n",
       "China       2.030313e+06\n",
       "Bulgaria    9.451980e+05\n",
       "Cyprus      6.229179e+05\n",
       "Name: Trade Value (US$), dtype: float64"
      ]
     },
     "execution_count": 23,
     "metadata": {},
     "output_type": "execute_result"
    }
   ],
   "source": [
    "df_import_data = DataFrame(\n",
    "    df_countries_import.groupby('Partner')['Trade Value (US$)'].sum(),columns = ['Trade Value (US$)'])\n",
    "df_import_std = df_countries_import.groupby('Partner')['Trade Value (US$)'].std()\n",
    "\n",
    "#We ignore countries which only one commodity is traded\n",
    "df_import_std = df_import_std.sort_values(ascending = False)[:13]\n",
    "df_import_data = df_import_data.sort_values('Trade Value (US$)',ascending = False)[:13]\n",
    "df_import_std\n"
   ]
  },
  {
   "cell_type": "code",
   "execution_count": 24,
   "metadata": {
    "scrolled": true
   },
   "outputs": [
    {
     "data": {
      "image/png": "[encoded data removed]",
      "text/plain": [
       "<Figure size 1080x360 with 1 Axes>"
      ]
     },
     "metadata": {
      "needs_background": "light"
     },
     "output_type": "display_data"
    }
   ],
   "source": [
    "\n",
    "fig, ax = plt.subplots()\n",
    "\n",
    "df_import_data.plot.bar(yerr=df_import_std, ax=ax, capsize=4, rot=0, figsize = (15,5), logy = True);"
   ]
  },
  {
   "cell_type": "markdown",
   "metadata": {},
   "source": [
    "We can see variability of flows depending on commodity doesn't appear to be significant for the 4 biggest import partners with Italy. Same thing will be done now for exports."
   ]
  },
  {
   "cell_type": "code",
   "execution_count": 25,
   "metadata": {
    "scrolled": false
   },
   "outputs": [
    {
     "data": {
      "image/png": "[encoded data removed]",
      "text/plain": [
       "<Figure size 1080x360 with 1 Axes>"
      ]
     },
     "metadata": {
      "needs_background": "light"
     },
     "output_type": "display_data"
    }
   ],
   "source": [
    "df_export_data = DataFrame(\n",
    "    df_countries_export.groupby('Partner')['Trade Value (US$)'].sum(),columns = ['Trade Value (US$)'])\n",
    "df_export_std = df_countries_export.groupby('Partner')['Trade Value (US$)'].std()\n",
    "\n",
    "#We ignore countries which only one commodity is traded\n",
    "df_export_std = df_export_std.sort_values(ascending = False)[:13]\n",
    "df_export_data = df_export_data.sort_values('Trade Value (US$)',ascending = False)[:13]\n",
    "\n",
    "fig, ax = plt.subplots()\n",
    "df_export_data.plot.bar(yerr=df_export_std, ax=ax, capsize=4, rot=0, figsize = (15,5), logy = True);\n"
   ]
  },
  {
   "cell_type": "markdown",
   "metadata": {},
   "source": [
    "Variability seems to be significant higher, probably because distrubution of italian export for dairy products seems to be spreaded across a large multitude of countries, while the imports are concentrated from few partners."
   ]
  },
  {
   "cell_type": "code",
   "execution_count": 26,
   "metadata": {},
   "outputs": [],
   "source": [
    "#splitting the dataframe for 'code' of commodity\n",
    "\n",
    "commodities_groups = df_countries.groupby(['Commodity Code','Partner'])['Trade Value (US$)'].sum()"
   ]
  },
  {
   "cell_type": "markdown",
   "metadata": {},
   "source": [
    "Would be useful to try and identify partner countries engaging in 'bi-derectional' trade who have total import values not greater than twice or smaller than half the total export value. We are going to use a pivot table for this purpose."
   ]
  },
  {
   "cell_type": "code",
   "execution_count": 27,
   "metadata": {
    "scrolled": true
   },
   "outputs": [
    {
     "data": {
      "text/html": [
       "<div>\n",
       "<style scoped>\n",
       "    .dataframe tbody tr th:only-of-type {\n",
       "        vertical-align: middle;\n",
       "    }\n",
       "\n",
       "    .dataframe tbody tr th {\n",
       "        vertical-align: top;\n",
       "    }\n",
       "\n",
       "    .dataframe thead th {\n",
       "        text-align: right;\n",
       "    }\n",
       "</style>\n",
       "<table border=\"1\" class=\"dataframe\">\n",
       "  <thead>\n",
       "    <tr style=\"text-align: right;\">\n",
       "      <th></th>\n",
       "      <th></th>\n",
       "      <th>Trade Value (US$)</th>\n",
       "    </tr>\n",
       "    <tr>\n",
       "      <th>Partner</th>\n",
       "      <th>Trade Flow</th>\n",
       "      <th></th>\n",
       "    </tr>\n",
       "  </thead>\n",
       "  <tbody>\n",
       "    <tr>\n",
       "      <th rowspan=\"2\" valign=\"top\">Belgium</th>\n",
       "      <th>Export</th>\n",
       "      <td>260043606</td>\n",
       "    </tr>\n",
       "    <tr>\n",
       "      <th>Import</th>\n",
       "      <td>483545413</td>\n",
       "    </tr>\n",
       "    <tr>\n",
       "      <th rowspan=\"2\" valign=\"top\">Croatia</th>\n",
       "      <th>Export</th>\n",
       "      <td>19400138</td>\n",
       "    </tr>\n",
       "    <tr>\n",
       "      <th>Import</th>\n",
       "      <td>12176432</td>\n",
       "    </tr>\n",
       "    <tr>\n",
       "      <th rowspan=\"2\" valign=\"top\">Denmark</th>\n",
       "      <th>Export</th>\n",
       "      <td>65734849</td>\n",
       "    </tr>\n",
       "    <tr>\n",
       "      <th>Import</th>\n",
       "      <td>40875471</td>\n",
       "    </tr>\n",
       "    <tr>\n",
       "      <th rowspan=\"2\" valign=\"top\">Estonia</th>\n",
       "      <th>Export</th>\n",
       "      <td>6914704</td>\n",
       "    </tr>\n",
       "    <tr>\n",
       "      <th>Import</th>\n",
       "      <td>10992886</td>\n",
       "    </tr>\n",
       "    <tr>\n",
       "      <th rowspan=\"2\" valign=\"top\">Finland</th>\n",
       "      <th>Export</th>\n",
       "      <td>18232018</td>\n",
       "    </tr>\n",
       "    <tr>\n",
       "      <th>Import</th>\n",
       "      <td>15070475</td>\n",
       "    </tr>\n",
       "    <tr>\n",
       "      <th rowspan=\"2\" valign=\"top\">Guatemala</th>\n",
       "      <th>Export</th>\n",
       "      <td>365161</td>\n",
       "    </tr>\n",
       "    <tr>\n",
       "      <th>Import</th>\n",
       "      <td>191197</td>\n",
       "    </tr>\n",
       "  </tbody>\n",
       "</table>\n",
       "</div>"
      ],
      "text/plain": [
       "                      Trade Value (US$)\n",
       "Partner   Trade Flow                   \n",
       "Belgium   Export              260043606\n",
       "          Import              483545413\n",
       "Croatia   Export               19400138\n",
       "          Import               12176432\n",
       "Denmark   Export               65734849\n",
       "          Import               40875471\n",
       "Estonia   Export                6914704\n",
       "          Import               10992886\n",
       "Finland   Export               18232018\n",
       "          Import               15070475\n",
       "Guatemala Export                 365161\n",
       "          Import                 191197"
      ]
     },
     "execution_count": 27,
     "metadata": {},
     "output_type": "execute_result"
    }
   ],
   "source": [
    "#We define a function that check whether the size of total values of export/import.\n",
    "\n",
    "def isBiderectional(data):\n",
    "    data_check = data.groupby('Trade Flow')['Trade Value (US$)'].sum()\n",
    "    if len(data_check) == 1:\n",
    "        return False\n",
    "    return min(data_check) >=  max(data_check)* 0.5\n",
    "    \n",
    "def isNotBiderectional(data):\n",
    "    data_check = data.groupby('Trade Flow')['Trade Value (US$)'].sum()\n",
    "    if len(data_check) == 1:\n",
    "        return False\n",
    "    return min(data_check) <  max(data_check)* 0.5   \n",
    "df_to_pivot = df_countries.groupby('Partner').filter(isBiderectional)\n",
    "pivot_bidirect= pivot_table(df_to_pivot, index = ['Partner','Trade Flow'], values = 'Trade Value (US$)',aggfunc= sum)\n",
    "pivot_bidirect"
   ]
  },
  {
   "cell_type": "code",
   "execution_count": 28,
   "metadata": {},
   "outputs": [
    {
     "data": {
      "text/plain": [
       "<matplotlib.axes._subplots.AxesSubplot at 0x1a1decf650>"
      ]
     },
     "execution_count": 28,
     "metadata": {},
     "output_type": "execute_result"
    },
    {
     "data": {
      "image/png": "[encoded data removed]",
      "text/plain": [
       "<Figure size 936x288 with 1 Axes>"
      ]
     },
     "metadata": {
      "needs_background": "light"
     },
     "output_type": "display_data"
    }
   ],
   "source": [
    "pivot_bidirect.plot(kind = 'barh',figsize = (13,4))"
   ]
  },
  {
   "cell_type": "markdown",
   "metadata": {},
   "source": [
    "We can now check which flows have instead the biggest asimmetry."
   ]
  },
  {
   "cell_type": "code",
   "execution_count": 29,
   "metadata": {},
   "outputs": [
    {
     "data": {
      "text/html": [
       "<div>\n",
       "<style scoped>\n",
       "    .dataframe tbody tr th:only-of-type {\n",
       "        vertical-align: middle;\n",
       "    }\n",
       "\n",
       "    .dataframe tbody tr th {\n",
       "        vertical-align: top;\n",
       "    }\n",
       "\n",
       "    .dataframe thead th {\n",
       "        text-align: right;\n",
       "    }\n",
       "</style>\n",
       "<table border=\"1\" class=\"dataframe\">\n",
       "  <thead>\n",
       "    <tr style=\"text-align: right;\">\n",
       "      <th></th>\n",
       "      <th></th>\n",
       "      <th>Trade Value (US$)</th>\n",
       "    </tr>\n",
       "    <tr>\n",
       "      <th>Partner</th>\n",
       "      <th>Trade Flow</th>\n",
       "      <th></th>\n",
       "    </tr>\n",
       "  </thead>\n",
       "  <tbody>\n",
       "    <tr>\n",
       "      <th rowspan=\"2\" valign=\"top\">Argentina</th>\n",
       "      <th>Export</th>\n",
       "      <td>225514</td>\n",
       "    </tr>\n",
       "    <tr>\n",
       "      <th>Import</th>\n",
       "      <td>1556530</td>\n",
       "    </tr>\n",
       "    <tr>\n",
       "      <th rowspan=\"2\" valign=\"top\">Australia</th>\n",
       "      <th>Export</th>\n",
       "      <td>59050111</td>\n",
       "    </tr>\n",
       "    <tr>\n",
       "      <th>Import</th>\n",
       "      <td>141860</td>\n",
       "    </tr>\n",
       "    <tr>\n",
       "      <th rowspan=\"2\" valign=\"top\">Austria</th>\n",
       "      <th>Export</th>\n",
       "      <td>175731474</td>\n",
       "    </tr>\n",
       "    <tr>\n",
       "      <th>Import</th>\n",
       "      <td>472795574</td>\n",
       "    </tr>\n",
       "    <tr>\n",
       "      <th rowspan=\"2\" valign=\"top\">Brazil</th>\n",
       "      <th>Export</th>\n",
       "      <td>4464904</td>\n",
       "    </tr>\n",
       "    <tr>\n",
       "      <th>Import</th>\n",
       "      <td>254267</td>\n",
       "    </tr>\n",
       "    <tr>\n",
       "      <th rowspan=\"2\" valign=\"top\">Bulgaria</th>\n",
       "      <th>Export</th>\n",
       "      <td>21786148</td>\n",
       "    </tr>\n",
       "    <tr>\n",
       "      <th>Import</th>\n",
       "      <td>4447574</td>\n",
       "    </tr>\n",
       "    <tr>\n",
       "      <th rowspan=\"2\" valign=\"top\">Chile</th>\n",
       "      <th>Export</th>\n",
       "      <td>3920554</td>\n",
       "    </tr>\n",
       "    <tr>\n",
       "      <th>Import</th>\n",
       "      <td>198748</td>\n",
       "    </tr>\n",
       "    <tr>\n",
       "      <th rowspan=\"2\" valign=\"top\">China</th>\n",
       "      <th>Export</th>\n",
       "      <td>128589175</td>\n",
       "    </tr>\n",
       "    <tr>\n",
       "      <th>Import</th>\n",
       "      <td>3512482</td>\n",
       "    </tr>\n",
       "    <tr>\n",
       "      <th rowspan=\"2\" valign=\"top\">Cuba</th>\n",
       "      <th>Export</th>\n",
       "      <td>222398</td>\n",
       "    </tr>\n",
       "    <tr>\n",
       "      <th>Import</th>\n",
       "      <td>66532</td>\n",
       "    </tr>\n",
       "    <tr>\n",
       "      <th rowspan=\"2\" valign=\"top\">Cyprus</th>\n",
       "      <th>Export</th>\n",
       "      <td>4860209</td>\n",
       "    </tr>\n",
       "    <tr>\n",
       "      <th>Import</th>\n",
       "      <td>2402357</td>\n",
       "    </tr>\n",
       "    <tr>\n",
       "      <th rowspan=\"2\" valign=\"top\">Czechia</th>\n",
       "      <th>Export</th>\n",
       "      <td>39677517</td>\n",
       "    </tr>\n",
       "    <tr>\n",
       "      <th>Import</th>\n",
       "      <td>178719158</td>\n",
       "    </tr>\n",
       "    <tr>\n",
       "      <th rowspan=\"3\" valign=\"top\">France</th>\n",
       "      <th>Export</th>\n",
       "      <td>969750968</td>\n",
       "    </tr>\n",
       "    <tr>\n",
       "      <th>Import</th>\n",
       "      <td>1034640219</td>\n",
       "    </tr>\n",
       "    <tr>\n",
       "      <th>Re-Export</th>\n",
       "      <td>8493</td>\n",
       "    </tr>\n",
       "    <tr>\n",
       "      <th rowspan=\"3\" valign=\"top\">Germany</th>\n",
       "      <th>Export</th>\n",
       "      <td>849437659</td>\n",
       "    </tr>\n",
       "    <tr>\n",
       "      <th>Import</th>\n",
       "      <td>2020898260</td>\n",
       "    </tr>\n",
       "    <tr>\n",
       "      <th>Re-Export</th>\n",
       "      <td>1114912</td>\n",
       "    </tr>\n",
       "    <tr>\n",
       "      <th rowspan=\"2\" valign=\"top\">Ghana</th>\n",
       "      <th>Export</th>\n",
       "      <td>337889</td>\n",
       "    </tr>\n",
       "    <tr>\n",
       "      <th>Import</th>\n",
       "      <td>3544</td>\n",
       "    </tr>\n",
       "    <tr>\n",
       "      <th rowspan=\"2\" valign=\"top\">Greece</th>\n",
       "      <th>Export</th>\n",
       "      <td>77013790</td>\n",
       "    </tr>\n",
       "    <tr>\n",
       "      <th>Import</th>\n",
       "      <td>318244777</td>\n",
       "    </tr>\n",
       "  </tbody>\n",
       "</table>\n",
       "</div>"
      ],
      "text/plain": [
       "                      Trade Value (US$)\n",
       "Partner   Trade Flow                   \n",
       "Argentina Export                 225514\n",
       "          Import                1556530\n",
       "Australia Export               59050111\n",
       "          Import                 141860\n",
       "Austria   Export              175731474\n",
       "          Import              472795574\n",
       "Brazil    Export                4464904\n",
       "          Import                 254267\n",
       "Bulgaria  Export               21786148\n",
       "          Import                4447574\n",
       "Chile     Export                3920554\n",
       "          Import                 198748\n",
       "China     Export              128589175\n",
       "          Import                3512482\n",
       "Cuba      Export                 222398\n",
       "          Import                  66532\n",
       "Cyprus    Export                4860209\n",
       "          Import                2402357\n",
       "Czechia   Export               39677517\n",
       "          Import              178719158\n",
       "France    Export              969750968\n",
       "          Import             1034640219\n",
       "          Re-Export                8493\n",
       "Germany   Export              849437659\n",
       "          Import             2020898260\n",
       "          Re-Export             1114912\n",
       "Ghana     Export                 337889\n",
       "          Import                   3544\n",
       "Greece    Export               77013790\n",
       "          Import              318244777"
      ]
     },
     "execution_count": 29,
     "metadata": {},
     "output_type": "execute_result"
    }
   ],
   "source": [
    "\n",
    "def isNotBiderectional(data):\n",
    "    data_check = data.groupby('Trade Flow')['Trade Value (US$)'].sum()\n",
    "    return min(data_check) <  max(data_check)* 0.5\n",
    "\n",
    "df_to_pivot = df_countries.groupby('Partner').filter(isNotBiderectional)\n",
    "pivot_notBidir = pivot_table(df_to_pivot, index = ['Partner','Trade Flow'], values = 'Trade Value (US$)',aggfunc= sum)\n",
    "pivot_notBidir"
   ]
  },
  {
   "cell_type": "code",
   "execution_count": 30,
   "metadata": {},
   "outputs": [
    {
     "data": {
      "text/plain": [
       "<matplotlib.axes._subplots.AxesSubplot at 0x1a1e1aa190>"
      ]
     },
     "execution_count": 30,
     "metadata": {},
     "output_type": "execute_result"
    },
    {
     "data": {
      "image/png": "[encoded data removed]",
      "text/plain": [
       "<Figure size 936x936 with 1 Axes>"
      ]
     },
     "metadata": {
      "needs_background": "light"
     },
     "output_type": "display_data"
    }
   ],
   "source": [
    "pivot_notBidir.plot(kind = 'barh', figsize = (13,13))"
   ]
  },
  {
   "cell_type": "markdown",
   "metadata": {
    "scrolled": true
   },
   "source": [
    "# Conclusions "
   ]
  },
  {
   "cell_type": "markdown",
   "metadata": {},
   "source": [
    "Italian total value of import for diary products was significantly higher (about 60% higher) than total value of export in the year 2021. This is a surprising result as Italy has the reputation of exporting large amount of unprocessed food all over the world. The biggest partners (Germany, France and Belgium) have a net negative flow of export in Italy for these dairy products.\n",
    "Italy seems to have a larger disperse distribution of export(i.e. a larger global market, with more spreaded partners). A diversification in the export partners can for sure decrease the systemic risk of signficant fluctuations of export value, but at the same time Italy finds itself to rely on dairy supply from a limited amount of European partners, which means that there might be stronger flutations in market price, as they belong all to the same market area."
   ]
  }
 ],
 "metadata": {
  "kernelspec": {
   "display_name": "Python 3",
   "language": "python",
   "name": "python3"
  },
  "language_info": {
   "codemirror_mode": {
    "name": "ipython",
    "version": 3
   },
   "file_extension": ".py",
   "mimetype": "text/x-python",
   "name": "python",
   "nbconvert_exporter": "python",
   "pygments_lexer": "ipython3",
   "version": "3.7.6"
  }
 },
 "nbformat": 4,
 "nbformat_minor": 4
}
