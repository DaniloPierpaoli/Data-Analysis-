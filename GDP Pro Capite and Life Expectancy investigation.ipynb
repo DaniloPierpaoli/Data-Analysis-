{
 "cells": [
  {
   "cell_type": "markdown",
   "metadata": {},
   "source": [
    "### GDP pro capita and life expectancy\n",
    "by Danilo Pierpaoli, 20 September 2022.\n",
    "\n",
    "How much average net income of a country affect the life expectancy of its inhabitants? It can be argued that a higher average amount of avaialble resources grants opportunity for access to better healthcare, nutrition quality, education, hygene and overall quality of life. If so, in which amount the life expectancy is increased for higher GDP Pro capite countries? Is a linear relationship or does it have diminishing returns (i.e. up to a certain point, extra net income won't affect life expectancy).\n",
    "\n",
    "The following analysis tries to answer these questions using 2020 and 2010 datasets from WorldBank."
   ]
  },
  {
   "cell_type": "markdown",
   "metadata": {},
   "source": [
    "# Getting the data\n",
    "\n",
    "Four datasets of the World Bank are considered. Two of them , available at https://data.worldbank.org/indicator/NY.GDP.PCAP.CD, lists the GDP Pro Capite (PPP) of the world's countries in current US dollars, for various years. The other datasets, available at http://data.worldbank.org/indicator/SP.DYN.LE00.IN, lists the life expectancy of the world's countries. These datasets are updated and run directly from this notebook connecting \n",
    "to the World Bank database."
   ]
  },
  {
   "cell_type": "code",
   "execution_count": 1,
   "metadata": {},
   "outputs": [],
   "source": [
    "# Import relevant modules and functions that will be used\n",
    "from numpy import *\n",
    "from pandas import *\n",
    "from pandas_datareader import wb\n",
    "from scipy.stats import spearmanr\n",
    "%matplotlib inline\n",
    "\n",
    "# Declaring variables and indicators used to load the datasets from World Bank\n",
    "year1 = 2010\n",
    "year2 = 2020\n",
    "ppp_indicator = 'NY.GDP.PCAP.CD'\n",
    "life_indicator = 'SP.DYN.LE00.IN'\n",
    "\n",
    "#Load the four datasets\n",
    "\n",
    "ppp_2010 = wb.download(country = 'all',indicator = ppp_indicator, start = year1,end = year1)\n",
    "ppp_2020 = wb.download(country = 'all',indicator = ppp_indicator, start = year2,end = year2)\n",
    "life_2010 = wb.download(country = 'all',indicator = life_indicator, start = year1,end = year1)\n",
    "life_2020 = wb.download(country = 'all',indicator = life_indicator, start = year2,end = year2)"
   ]
  },
  {
   "cell_type": "code",
   "execution_count": null,
   "metadata": {},
   "outputs": [],
   "source": []
  },
  {
   "cell_type": "markdown",
   "metadata": {},
   "source": [
    "# Cleaning the data\n",
    "\n",
    "Inspecting the data with head() and tail() shows that:\n",
    "\n",
    "- the first 49 rows for both the 2010 and 2020 datasets are aggregated data, mainly country groups used by the World Bank, which are not needed for the purpose of this analysis;\n",
    "- There are plenty of values that are missing for some countries within the four datasets. We are handling it by removing them. We can observe that different datasets have different null values for different coutries.\n",
    "We are interested to drop the rows with null values for each datasets, as the inner join won't consider the countries that had been removed from one dataset.\n"
   ]
  },
  {
   "cell_type": "code",
   "execution_count": 2,
   "metadata": {},
   "outputs": [
    {
     "data": {
      "text/html": [
       "<div>\n",
       "<style scoped>\n",
       "    .dataframe tbody tr th:only-of-type {\n",
       "        vertical-align: middle;\n",
       "    }\n",
       "\n",
       "    .dataframe tbody tr th {\n",
       "        vertical-align: top;\n",
       "    }\n",
       "\n",
       "    .dataframe thead th {\n",
       "        text-align: right;\n",
       "    }\n",
       "</style>\n",
       "<table border=\"1\" class=\"dataframe\">\n",
       "  <thead>\n",
       "    <tr style=\"text-align: right;\">\n",
       "      <th></th>\n",
       "      <th></th>\n",
       "      <th>NY.GDP.PCAP.CD</th>\n",
       "    </tr>\n",
       "    <tr>\n",
       "      <th>country</th>\n",
       "      <th>year</th>\n",
       "      <th></th>\n",
       "    </tr>\n",
       "  </thead>\n",
       "  <tbody>\n",
       "    <tr>\n",
       "      <th>Afghanistan</th>\n",
       "      <th>2010</th>\n",
       "      <td>543.306526</td>\n",
       "    </tr>\n",
       "    <tr>\n",
       "      <th>Albania</th>\n",
       "      <th>2010</th>\n",
       "      <td>4094.348386</td>\n",
       "    </tr>\n",
       "    <tr>\n",
       "      <th>Algeria</th>\n",
       "      <th>2010</th>\n",
       "      <td>4480.786318</td>\n",
       "    </tr>\n",
       "    <tr>\n",
       "      <th>American Samoa</th>\n",
       "      <th>2010</th>\n",
       "      <td>10216.817631</td>\n",
       "    </tr>\n",
       "    <tr>\n",
       "      <th>Andorra</th>\n",
       "      <th>2010</th>\n",
       "      <td>40849.761277</td>\n",
       "    </tr>\n",
       "  </tbody>\n",
       "</table>\n",
       "</div>"
      ],
      "text/plain": [
       "                     NY.GDP.PCAP.CD\n",
       "country        year                \n",
       "Afghanistan    2010      543.306526\n",
       "Albania        2010     4094.348386\n",
       "Algeria        2010     4480.786318\n",
       "American Samoa 2010    10216.817631\n",
       "Andorra        2010    40849.761277"
      ]
     },
     "execution_count": 2,
     "metadata": {},
     "output_type": "execute_result"
    }
   ],
   "source": [
    "ppp_2010 = ppp_2010[49:]\n",
    "ppp_2010.head()"
   ]
  },
  {
   "cell_type": "code",
   "execution_count": 3,
   "metadata": {
    "scrolled": false
   },
   "outputs": [
    {
     "data": {
      "text/html": [
       "<div>\n",
       "<style scoped>\n",
       "    .dataframe tbody tr th:only-of-type {\n",
       "        vertical-align: middle;\n",
       "    }\n",
       "\n",
       "    .dataframe tbody tr th {\n",
       "        vertical-align: top;\n",
       "    }\n",
       "\n",
       "    .dataframe thead th {\n",
       "        text-align: right;\n",
       "    }\n",
       "</style>\n",
       "<table border=\"1\" class=\"dataframe\">\n",
       "  <thead>\n",
       "    <tr style=\"text-align: right;\">\n",
       "      <th></th>\n",
       "      <th></th>\n",
       "      <th>SP.DYN.LE00.IN</th>\n",
       "    </tr>\n",
       "    <tr>\n",
       "      <th>country</th>\n",
       "      <th>year</th>\n",
       "      <th></th>\n",
       "    </tr>\n",
       "  </thead>\n",
       "  <tbody>\n",
       "    <tr>\n",
       "      <th>Afghanistan</th>\n",
       "      <th>2010</th>\n",
       "      <td>61.028</td>\n",
       "    </tr>\n",
       "    <tr>\n",
       "      <th>Albania</th>\n",
       "      <th>2010</th>\n",
       "      <td>76.562</td>\n",
       "    </tr>\n",
       "    <tr>\n",
       "      <th>Algeria</th>\n",
       "      <th>2010</th>\n",
       "      <td>74.938</td>\n",
       "    </tr>\n",
       "    <tr>\n",
       "      <th>American Samoa</th>\n",
       "      <th>2010</th>\n",
       "      <td>NaN</td>\n",
       "    </tr>\n",
       "    <tr>\n",
       "      <th>Andorra</th>\n",
       "      <th>2010</th>\n",
       "      <td>NaN</td>\n",
       "    </tr>\n",
       "  </tbody>\n",
       "</table>\n",
       "</div>"
      ],
      "text/plain": [
       "                     SP.DYN.LE00.IN\n",
       "country        year                \n",
       "Afghanistan    2010          61.028\n",
       "Albania        2010          76.562\n",
       "Algeria        2010          74.938\n",
       "American Samoa 2010             NaN\n",
       "Andorra        2010             NaN"
      ]
     },
     "execution_count": 3,
     "metadata": {},
     "output_type": "execute_result"
    }
   ],
   "source": [
    "life_2010= life_2010[49:]\n",
    "life_2010.head()"
   ]
  },
  {
   "cell_type": "code",
   "execution_count": 4,
   "metadata": {},
   "outputs": [],
   "source": [
    "ppp_2020 = ppp_2020[49:]\n",
    "life_2020 = life_2020[49:]"
   ]
  },
  {
   "cell_type": "code",
   "execution_count": 5,
   "metadata": {},
   "outputs": [],
   "source": [
    "#Now we need to reset the index so country is not an index any longer\n",
    "ppp_2010 = ppp_2010.reset_index()\n",
    "ppp_2020 = ppp_2020.reset_index()\n",
    "life_2010 = life_2010.reset_index()\n",
    "life_2020 = life_2020.reset_index()"
   ]
  },
  {
   "cell_type": "code",
   "execution_count": 6,
   "metadata": {},
   "outputs": [],
   "source": [
    "#Now we create a function to find the number and identify missing values\n",
    "def find_null_values(dataframe, column):\n",
    "    null_row =[]\n",
    "    count = 0\n",
    "    while count < len(dataframe):\n",
    "        if dataframe[column].isnull()[count] == True:\n",
    "            null_row.append((count,dataframe['country'][count]))\n",
    "        count +=1    \n",
    "    return null_row\n"
   ]
  },
  {
   "cell_type": "code",
   "execution_count": 7,
   "metadata": {},
   "outputs": [
    {
     "name": "stdout",
     "output_type": "stream",
     "text": [
      "Missing values within ppp 2010 dataset    [(27, 'British Virgin Islands'), (39, 'Channel Islands'), (50, 'Curacao'), (69, 'French Polynesia'), (75, 'Gibraltar'), (103, \"Korea, Dem. People's Rep.\"), (172, 'Sint Maarten (Dutch part)'), (176, 'Somalia'), (183, 'St. Martin (French part)')]\n",
      "Missing values within life 2010 dataset:[(3, 'American Samoa'), (4, 'Andorra'), (27, 'British Virgin Islands'), (50, 'Curacao'), (55, 'Dominica'), (75, 'Gibraltar'), (94, 'Isle of Man'), (124, 'Marshall Islands'), (130, 'Monaco'), (137, 'Nauru'), (146, 'Northern Mariana Islands'), (150, 'Palau'), (164, 'San Marino'), (172, 'Sint Maarten (Dutch part)'), (181, 'St. Kitts and Nevis'), (200, 'Turks and Caicos Islands'), (201, 'Tuvalu')]\n",
      "Missing values within ppp 2020 dataset:[(27, 'British Virgin Islands'), (39, 'Channel Islands'), (61, 'Eritrea'), (75, 'Gibraltar'), (94, 'Isle of Man'), (103, \"Korea, Dem. People's Rep.\"), (114, 'Liechtenstein'), (146, 'Northern Mariana Islands'), (172, 'Sint Maarten (Dutch part)'), (178, 'South Sudan'), (183, 'St. Martin (French part)'), (189, 'Syrian Arab Republic'), (199, 'Turkmenistan'), (210, 'Venezuela, RB')]\n",
      "Missing values within life 2020 dataset:[(3, 'American Samoa'), (4, 'Andorra'), (27, 'British Virgin Islands'), (50, 'Curacao'), (55, 'Dominica'), (75, 'Gibraltar'), (94, 'Isle of Man'), (124, 'Marshall Islands'), (130, 'Monaco'), (137, 'Nauru'), (146, 'Northern Mariana Islands'), (150, 'Palau'), (164, 'San Marino'), (172, 'Sint Maarten (Dutch part)'), (181, 'St. Kitts and Nevis'), (200, 'Turks and Caicos Islands'), (201, 'Tuvalu')]\n"
     ]
    }
   ],
   "source": [
    "#Now we run the function to find missing values in the four dataframes:\n",
    "null_ppp_2010 = find_null_values(ppp_2010,'NY.GDP.PCAP.CD')\n",
    "null_ppp_2020 = find_null_values(ppp_2020,'NY.GDP.PCAP.CD')\n",
    "null_life_2010 = find_null_values(life_2010,'SP.DYN.LE00.IN')\n",
    "null_life_2020 = find_null_values(life_2010,'SP.DYN.LE00.IN')\n",
    "print(f'Missing values within ppp 2010 dataset    {null_ppp_2010}')\n",
    "print(f'Missing values within life 2010 dataset:{null_life_2010}')\n",
    "print(f'Missing values within ppp 2020 dataset:{null_ppp_2020}')   \n",
    "print(f'Missing values within life 2020 dataset:{null_life_2020}')      "
   ]
  },
  {
   "cell_type": "code",
   "execution_count": 8,
   "metadata": {},
   "outputs": [],
   "source": [
    "#Dropping null values\n",
    "ppp_2010 = ppp_2010.dropna()\n",
    "ppp_2020 = ppp_2020.dropna()\n",
    "life_2010 = life_2010.dropna()\n",
    "life_2020 = life_2020.dropna()\n",
    "\n"
   ]
  },
  {
   "cell_type": "markdown",
   "metadata": {},
   "source": [
    "# Transforming Data\n",
    "\n",
    "Here we are going to rename the columns and convert currency to the year average local one, GBP in our case, and drop indicator columns. We are going to define a function in order to convert currency."
   ]
  },
  {
   "cell_type": "code",
   "execution_count": 9,
   "metadata": {},
   "outputs": [],
   "source": [
    "def usdToGbp2010(value):\n",
    "    return value * 0.6475 \n",
    "\n",
    "def usdToGbp2020(value):\n",
    "    return value * 0.7798"
   ]
  },
  {
   "cell_type": "code",
   "execution_count": 10,
   "metadata": {
    "scrolled": true
   },
   "outputs": [],
   "source": [
    "#We can now rename the columns, round and change and add units for the GDP PPP column and life expectancy\n",
    "gdp_ppp = 'GDP Pro Capita (£)'\n",
    "life = 'Life Expectancy (years)'\n",
    "country = 'country'\n",
    "headings_life = [country,life]\n",
    "headings_ppp = [country,gdp_ppp]\n",
    "\n",
    "ppp_2010[gdp_ppp] = ppp_2010[ppp_indicator].apply(usdToGbp2010).apply(round)\n",
    "ppp_2010 = ppp_2010[headings_ppp]\n",
    "ppp_2020[gdp_ppp] = ppp_2020[ppp_indicator].apply(usdToGbp2020).apply(round)\n",
    "ppp_2020 = ppp_2020[headings_ppp]\n",
    "life_2010[life] = life_2010[life_indicator].apply(round)\n",
    "life_2010 = life_2010[headings_life]\n",
    "life_2020[life] = life_2020[life_indicator].apply(round)\n",
    "life_2020 = life_2020[headings_life]"
   ]
  },
  {
   "cell_type": "code",
   "execution_count": 11,
   "metadata": {},
   "outputs": [
    {
     "data": {
      "text/html": [
       "<div>\n",
       "<style scoped>\n",
       "    .dataframe tbody tr th:only-of-type {\n",
       "        vertical-align: middle;\n",
       "    }\n",
       "\n",
       "    .dataframe tbody tr th {\n",
       "        vertical-align: top;\n",
       "    }\n",
       "\n",
       "    .dataframe thead th {\n",
       "        text-align: right;\n",
       "    }\n",
       "</style>\n",
       "<table border=\"1\" class=\"dataframe\">\n",
       "  <thead>\n",
       "    <tr style=\"text-align: right;\">\n",
       "      <th></th>\n",
       "      <th>country</th>\n",
       "      <th>GDP Pro Capita (£)</th>\n",
       "    </tr>\n",
       "  </thead>\n",
       "  <tbody>\n",
       "    <tr>\n",
       "      <th>0</th>\n",
       "      <td>Afghanistan</td>\n",
       "      <td>403</td>\n",
       "    </tr>\n",
       "    <tr>\n",
       "      <th>1</th>\n",
       "      <td>Albania</td>\n",
       "      <td>4158</td>\n",
       "    </tr>\n",
       "    <tr>\n",
       "      <th>2</th>\n",
       "      <td>Algeria</td>\n",
       "      <td>2579</td>\n",
       "    </tr>\n",
       "    <tr>\n",
       "      <th>3</th>\n",
       "      <td>American Samoa</td>\n",
       "      <td>10016</td>\n",
       "    </tr>\n",
       "    <tr>\n",
       "      <th>4</th>\n",
       "      <td>Andorra</td>\n",
       "      <td>29178</td>\n",
       "    </tr>\n",
       "  </tbody>\n",
       "</table>\n",
       "</div>"
      ],
      "text/plain": [
       "          country  GDP Pro Capita (£)\n",
       "0     Afghanistan                 403\n",
       "1         Albania                4158\n",
       "2         Algeria                2579\n",
       "3  American Samoa               10016\n",
       "4         Andorra               29178"
      ]
     },
     "execution_count": 11,
     "metadata": {},
     "output_type": "execute_result"
    }
   ],
   "source": [
    "ppp_2020.head()"
   ]
  },
  {
   "cell_type": "markdown",
   "metadata": {},
   "source": [
    "# Combining data"
   ]
  },
  {
   "cell_type": "markdown",
   "metadata": {},
   "source": [
    "We are now going to combine data using the country as primary key. We will use an inner join, so countries that don't appear in both chosen datasets won't be considered. We will have 2 datasets now we will work with. The merged 2010 and merged 2020 datasets."
   ]
  },
  {
   "cell_type": "code",
   "execution_count": 12,
   "metadata": {},
   "outputs": [
    {
     "data": {
      "text/html": [
       "<div>\n",
       "<style scoped>\n",
       "    .dataframe tbody tr th:only-of-type {\n",
       "        vertical-align: middle;\n",
       "    }\n",
       "\n",
       "    .dataframe tbody tr th {\n",
       "        vertical-align: top;\n",
       "    }\n",
       "\n",
       "    .dataframe thead th {\n",
       "        text-align: right;\n",
       "    }\n",
       "</style>\n",
       "<table border=\"1\" class=\"dataframe\">\n",
       "  <thead>\n",
       "    <tr style=\"text-align: right;\">\n",
       "      <th></th>\n",
       "      <th>country</th>\n",
       "      <th>GDP Pro Capita (£)</th>\n",
       "      <th>Life Expectancy (years)</th>\n",
       "    </tr>\n",
       "  </thead>\n",
       "  <tbody>\n",
       "    <tr>\n",
       "      <th>0</th>\n",
       "      <td>Afghanistan</td>\n",
       "      <td>352</td>\n",
       "      <td>61</td>\n",
       "    </tr>\n",
       "    <tr>\n",
       "      <th>1</th>\n",
       "      <td>Albania</td>\n",
       "      <td>2651</td>\n",
       "      <td>77</td>\n",
       "    </tr>\n",
       "    <tr>\n",
       "      <th>2</th>\n",
       "      <td>Algeria</td>\n",
       "      <td>2901</td>\n",
       "      <td>75</td>\n",
       "    </tr>\n",
       "    <tr>\n",
       "      <th>3</th>\n",
       "      <td>Angola</td>\n",
       "      <td>2265</td>\n",
       "      <td>55</td>\n",
       "    </tr>\n",
       "    <tr>\n",
       "      <th>4</th>\n",
       "      <td>Antigua and Barbuda</td>\n",
       "      <td>8449</td>\n",
       "      <td>76</td>\n",
       "    </tr>\n",
       "  </tbody>\n",
       "</table>\n",
       "</div>"
      ],
      "text/plain": [
       "               country  GDP Pro Capita (£)  Life Expectancy (years)\n",
       "0          Afghanistan                 352                       61\n",
       "1              Albania                2651                       77\n",
       "2              Algeria                2901                       75\n",
       "3               Angola                2265                       55\n",
       "4  Antigua and Barbuda                8449                       76"
      ]
     },
     "execution_count": 12,
     "metadata": {},
     "output_type": "execute_result"
    }
   ],
   "source": [
    "pppVSlife2010 = merge(left = ppp_2010,right = life_2010, on = country, how = 'inner')\n",
    "pppVSlife2020 = merge(left = ppp_2020,right = life_2020, on = country, how = 'inner')\n",
    "pppVSlife2010.head()"
   ]
  },
  {
   "cell_type": "code",
   "execution_count": 13,
   "metadata": {
    "scrolled": true
   },
   "outputs": [
    {
     "data": {
      "text/html": [
       "<div>\n",
       "<style scoped>\n",
       "    .dataframe tbody tr th:only-of-type {\n",
       "        vertical-align: middle;\n",
       "    }\n",
       "\n",
       "    .dataframe tbody tr th {\n",
       "        vertical-align: top;\n",
       "    }\n",
       "\n",
       "    .dataframe thead th {\n",
       "        text-align: right;\n",
       "    }\n",
       "</style>\n",
       "<table border=\"1\" class=\"dataframe\">\n",
       "  <thead>\n",
       "    <tr style=\"text-align: right;\">\n",
       "      <th></th>\n",
       "      <th>country</th>\n",
       "      <th>GDP Pro Capita (£)</th>\n",
       "      <th>Life Expectancy (years)</th>\n",
       "    </tr>\n",
       "  </thead>\n",
       "  <tbody>\n",
       "    <tr>\n",
       "      <th>0</th>\n",
       "      <td>Afghanistan</td>\n",
       "      <td>403</td>\n",
       "      <td>65</td>\n",
       "    </tr>\n",
       "    <tr>\n",
       "      <th>1</th>\n",
       "      <td>Albania</td>\n",
       "      <td>4158</td>\n",
       "      <td>79</td>\n",
       "    </tr>\n",
       "    <tr>\n",
       "      <th>2</th>\n",
       "      <td>Algeria</td>\n",
       "      <td>2579</td>\n",
       "      <td>77</td>\n",
       "    </tr>\n",
       "    <tr>\n",
       "      <th>3</th>\n",
       "      <td>Angola</td>\n",
       "      <td>1272</td>\n",
       "      <td>61</td>\n",
       "    </tr>\n",
       "    <tr>\n",
       "      <th>4</th>\n",
       "      <td>Antigua and Barbuda</td>\n",
       "      <td>10912</td>\n",
       "      <td>77</td>\n",
       "    </tr>\n",
       "  </tbody>\n",
       "</table>\n",
       "</div>"
      ],
      "text/plain": [
       "               country  GDP Pro Capita (£)  Life Expectancy (years)\n",
       "0          Afghanistan                 403                       65\n",
       "1              Albania                4158                       79\n",
       "2              Algeria                2579                       77\n",
       "3               Angola                1272                       61\n",
       "4  Antigua and Barbuda               10912                       77"
      ]
     },
     "execution_count": 13,
     "metadata": {},
     "output_type": "execute_result"
    }
   ],
   "source": [
    "pppVSlife2020.head()"
   ]
  },
  {
   "cell_type": "markdown",
   "metadata": {},
   "source": [
    "# Calculating the correlation\n",
    "\n",
    "\n",
    "spearman function from scipy module will be used to measure rank correlation between PPP and life expectancy for both tables. The coefficient measured is a number that can have the values between -1 and 1. A correlation of 1 is a perfect direct correlation (you can draw a positive line with the values of each row), a correlation of -1 is a perfect inverse correlation (you can draw a negative line with the values of each row). A perfect correlation doesn't imply any cause-effect relation between the two indicators. We are ignoring the pValue as we are considering the near entirity of world population."
   ]
  },
  {
   "cell_type": "code",
   "execution_count": 14,
   "metadata": {},
   "outputs": [],
   "source": [
    "#Storing into series variable the columns we are analyzing:\n",
    "\n",
    "col_ppp2010 = pppVSlife2010[gdp_ppp]\n",
    "col_ppp2020 = pppVSlife2020[gdp_ppp]\n",
    "col_life2010 = pppVSlife2010[life]\n",
    "col_life2020 = pppVSlife2020[life]"
   ]
  },
  {
   "cell_type": "code",
   "execution_count": 15,
   "metadata": {},
   "outputs": [
    {
     "name": "stdout",
     "output_type": "stream",
     "text": [
      "The correlation between GDP Pro Capite and Life Expectancy in 2010 is 0.8442760610127388\n",
      "The correlation between GDP Pro Capite and Life Expectancy in 2020 is 0.8571497399096641\n"
     ]
    }
   ],
   "source": [
    "#Now applying spearmanr function for both datasets:\n",
    "\n",
    "(correlation_2010,pValue1) = spearmanr(col_ppp2010,col_life2010)\n",
    "(correlation_2020,pValue2) = spearmanr(col_ppp2020,col_life2020)\n",
    "print(f'The correlation between GDP Pro Capite and Life Expectancy in 2010 is {correlation_2010}')\n",
    "print(f'The correlation between GDP Pro Capite and Life Expectancy in 2020 is {correlation_2020}')"
   ]
  },
  {
   "cell_type": "markdown",
   "metadata": {},
   "source": [
    "We can see that the difference between the two rank correlation is in the order of 0.013. Hence they are quite alike, showing that even with 10 years difference a similar result is expected to show. The correlation is strong but not perfect."
   ]
  },
  {
   "cell_type": "markdown",
   "metadata": {},
   "source": [
    "# Visualising Data"
   ]
  },
  {
   "cell_type": "markdown",
   "metadata": {},
   "source": [
    "We are going to show the visual scatter graph of 2010 dataset. And then for the 2020 dataset. We use logarithmic scale for the second graph"
   ]
  },
  {
   "cell_type": "code",
   "execution_count": 16,
   "metadata": {
    "scrolled": true
   },
   "outputs": [
    {
     "data": {
      "text/plain": [
       "<matplotlib.axes._subplots.AxesSubplot at 0x1a18670c90>"
      ]
     },
     "execution_count": 16,
     "metadata": {},
     "output_type": "execute_result"
    },
    {
     "data": {
      "image/png": "[encoded data removed]",
      "text/plain": [
       "<Figure size 1080x288 with 1 Axes>"
      ]
     },
     "metadata": {
      "needs_background": "light"
     },
     "output_type": "display_data"
    }
   ],
   "source": [
    "pppVSlife2010.plot(x = gdp_ppp, y = life, kind = 'scatter', grid = True,figsize= (15,4))"
   ]
  },
  {
   "cell_type": "markdown",
   "metadata": {},
   "source": [
    "The graph is a bit squashed to the y-axis, showing that doesn't take a big increase in PPP to increase significantly life expectancy. We look at logarithmic scale now."
   ]
  },
  {
   "cell_type": "code",
   "execution_count": 17,
   "metadata": {},
   "outputs": [
    {
     "data": {
      "text/plain": [
       "<matplotlib.axes._subplots.AxesSubplot at 0x1a1928ec50>"
      ]
     },
     "execution_count": 17,
     "metadata": {},
     "output_type": "execute_result"
    },
    {
     "data": {
      "image/png": "[encoded data removed]",
      "text/plain": [
       "<Figure size 1080x504 with 1 Axes>"
      ]
     },
     "metadata": {
      "needs_background": "light"
     },
     "output_type": "display_data"
    }
   ],
   "source": [
    "pppVSlife2010.plot(x = gdp_ppp, y = life, kind = 'scatter',logx = True, grid = True,figsize= (15,7))"
   ]
  },
  {
   "cell_type": "markdown",
   "metadata": {},
   "source": [
    "The same process will be repeated for the 2020 dataset"
   ]
  },
  {
   "cell_type": "code",
   "execution_count": 18,
   "metadata": {
    "scrolled": true
   },
   "outputs": [
    {
     "data": {
      "text/plain": [
       "<matplotlib.axes._subplots.AxesSubplot at 0x1a197a7a10>"
      ]
     },
     "execution_count": 18,
     "metadata": {},
     "output_type": "execute_result"
    },
    {
     "data": {
      "image/png": "[encoded data removed]",
      "text/plain": [
       "<Figure size 1080x360 with 1 Axes>"
      ]
     },
     "metadata": {
      "needs_background": "light"
     },
     "output_type": "display_data"
    }
   ],
   "source": [
    "pppVSlife2020.plot(x = gdp_ppp, y = life,grid = True, kind = 'scatter', figsize =(15,5))"
   ]
  },
  {
   "cell_type": "code",
   "execution_count": 19,
   "metadata": {
    "scrolled": true
   },
   "outputs": [
    {
     "data": {
      "text/plain": [
       "<matplotlib.axes._subplots.AxesSubplot at 0x1a1998ef90>"
      ]
     },
     "execution_count": 19,
     "metadata": {},
     "output_type": "execute_result"
    },
    {
     "data": {
      "image/png": "[encoded data removed]",
      "text/plain": [
       "<Figure size 1080x504 with 1 Axes>"
      ]
     },
     "metadata": {
      "needs_background": "light"
     },
     "output_type": "display_data"
    }
   ],
   "source": [
    "pppVSlife2020.plot(x = gdp_ppp, y = life,grid = True, kind = 'scatter', logx=True,figsize =(15,7))"
   ]
  },
  {
   "cell_type": "markdown",
   "metadata": {},
   "source": [
    "The last two graphs look very similar in shape to the previous ones. We are going to split up the dataset into high income and low income country to see to which extent the correlation changes"
   ]
  },
  {
   "cell_type": "markdown",
   "metadata": {},
   "source": [
    "# Further statistical analysis\n",
    "\n",
    "From the plots emerged a non linear relatioship between the two variable, suggesting life expectancy is affected by GDP Pro Capite in a different way at different values of PPP."
   ]
  },
  {
   "cell_type": "code",
   "execution_count": 20,
   "metadata": {},
   "outputs": [
    {
     "name": "stdout",
     "output_type": "stream",
     "text": [
      "In 2010 the world average PPP was 9679.63076923077 and life expectancy 70.34871794871795\n",
      "In 2020 the world average PPP was 11720.98947368421 and life expectancy 72.9578947368421\n"
     ]
    }
   ],
   "source": [
    "life2010 = pppVSlife2010[life].mean()\n",
    "life2020 = pppVSlife2020[life].mean()\n",
    "ppp2010 = pppVSlife2010[gdp_ppp].mean()\n",
    "ppp2020 = pppVSlife2020[gdp_ppp].mean()\n",
    "print(f'In 2010 the world average PPP was {ppp2010} and life expectancy {life2010}')\n",
    "print(f'In 2020 the world average PPP was {ppp2020} and life expectancy {life2020}')"
   ]
  },
  {
   "cell_type": "code",
   "execution_count": 21,
   "metadata": {},
   "outputs": [
    {
     "name": "stdout",
     "output_type": "stream",
     "text": [
      "The rank correlation between PPP and life expectancy in higher income country for 2010 dataset is 0.35008285260591165\n",
      "The correlation is statistically significant\n",
      "The rank correlation between PPP and life expectancy in higher income country for 2020 dataset is 0.5474205399667047\n",
      "The correlation is statistically significant\n"
     ]
    }
   ],
   "source": [
    "#We need to check pValue here using a function\n",
    "def pValueCheck(value):\n",
    "    if value < 0.05:\n",
    "        print('The correlation is statistically significant')\n",
    "    else:\n",
    "        print('The correlation is not statistically significant')\n",
    "over15000_2010= pppVSlife2010[pppVSlife2010[gdp_ppp]>15000]\n",
    "over15000_2020 = pppVSlife2020[pppVSlife2020[gdp_ppp] > 15000]\n",
    "\n",
    "(corr_15000_2010,pValue) = spearmanr(over15000_2010[gdp_ppp],over15000_2010[life])\n",
    "print(f'The rank correlation between PPP and life expectancy in higher income country for 2010 dataset is {corr_15000_2010}')\n",
    "pValueCheck(pValue)\n",
    "\n",
    "(corr_15000_2020,pValue) = spearmanr(over15000_2020[gdp_ppp],over15000_2020[life])\n",
    "print(f'The rank correlation between PPP and life expectancy in higher income country for 2020 dataset is {corr_15000_2020}')\n",
    "pValueCheck(pValue)"
   ]
  },
  {
   "cell_type": "markdown",
   "metadata": {},
   "source": [
    "Interestingly the rank correlation is significantly lower for higher income countries, especially in 2020. We can repeat the process for PPP higher than £20000 and lower than £15000"
   ]
  },
  {
   "cell_type": "code",
   "execution_count": 22,
   "metadata": {},
   "outputs": [
    {
     "name": "stdout",
     "output_type": "stream",
     "text": [
      "The rank correlation between PPP and life expectancy in higher income country for 2010 dataset is 0.3132203572112219\n",
      "The correlation is not statistically significant\n",
      "The rank correlation between PPP and life expectancy in higher income country for 2020 dataset is 0.21581757973811477\n",
      "The correlation is not statistically significant\n"
     ]
    }
   ],
   "source": [
    "over20000_2010= pppVSlife2010[pppVSlife2010[gdp_ppp]>20000]\n",
    "over20000_2020 = pppVSlife2020[pppVSlife2020[gdp_ppp] > 20000]\n",
    "\n",
    "(corr_20000_2010,pValue) = spearmanr(over20000_2010[gdp_ppp],over20000_2010[life])\n",
    "print(f'The rank correlation between PPP and life expectancy in higher income country for 2010 dataset is {corr_20000_2010}')\n",
    "pValueCheck(pValue)\n",
    "\n",
    "(corr_20000_2020,pValue) = spearmanr(over20000_2020[gdp_ppp],over20000_2020[life])\n",
    "print(f'The rank correlation between PPP and life expectancy in higher income country for 2020 dataset is {corr_20000_2020}')\n",
    "pValueCheck(pValue)"
   ]
  },
  {
   "cell_type": "markdown",
   "metadata": {},
   "source": [
    "As expected both rank correlations dropped moving from £15000 to £20000, but the interesting fact is the drammatic drop in 2020, showing that in 2010 the difference between a PPP £15000 and £20000 seemed to have less impact on life expectancy, possibly because of the increase in average PPP of about £2000 and in life expectancy of 2 years in those 10 years. We expect to find a very strong correlation in lower GDP Pro Capite countries."
   ]
  },
  {
   "cell_type": "code",
   "execution_count": 23,
   "metadata": {},
   "outputs": [
    {
     "name": "stdout",
     "output_type": "stream",
     "text": [
      "The rank correlation between PPP and life expectancy in lower income country for 2010 dataset is 0.7011805509251768\n",
      "The correlation is statistically significant\n",
      "The rank correlation between PPP and life expectancy in lower income country for 2020 dataset is 0.7331397846146699\n",
      "The correlation is statistically significant\n"
     ]
    }
   ],
   "source": [
    "below12000_2010= pppVSlife2010[pppVSlife2010[gdp_ppp] < 12000]\n",
    "below12000_2020 = pppVSlife2020[pppVSlife2020[gdp_ppp] < 12000]\n",
    "\n",
    "(corr_b12000_2010,pValue) = spearmanr(below12000_2010[gdp_ppp],below12000_2010[life])\n",
    "print(f'The rank correlation between PPP and life expectancy in lower income country for 2010 dataset is {corr_b12000_2010}')\n",
    "pValueCheck(pValue)\n",
    "\n",
    "(corr_b12000_2020,pValue) = spearmanr(below12000_2020[gdp_ppp],below12000_2020[life])\n",
    "print(f'The rank correlation between PPP and life expectancy in lower income country for 2020 dataset is {corr_b12000_2020}')\n",
    "pValueCheck(pValue)"
   ]
  },
  {
   "cell_type": "code",
   "execution_count": 24,
   "metadata": {},
   "outputs": [
    {
     "name": "stdout",
     "output_type": "stream",
     "text": [
      "In 2010 the world average life expectancy for low PPP countries was 67.71710526315789years and for higher than £15,000 PPP countries 79.65116279069767years\n",
      "In 2020 the world average life expectancy for low PPP countries was 70.32857142857142years and for higher than £15,000 PPP countries 80.32years\n",
      "In 2010 the world average life expectancy for poor countries was 80.44444444444444years \n",
      "In 2020 the world average life expectancy for poor countries was 81.38709677419355years \n"
     ]
    }
   ],
   "source": [
    "life_poor_2010 = pppVSlife2010[pppVSlife2010[gdp_ppp] < 15000][life].mean()\n",
    "life_poor_2020 = pppVSlife2020[pppVSlife2020[gdp_ppp] < 15000][life].mean()\n",
    "life_rich_2010 = pppVSlife2010[pppVSlife2010[gdp_ppp] > 15000][life].mean()\n",
    "life_rich_2020 = pppVSlife2020[pppVSlife2020[gdp_ppp] > 15000][life].mean()\n",
    "print(f'In 2010 the world average life expectancy for low PPP countries was {life_poor_2010}years and for higher than £15,000 PPP countries {life_rich_2010}years')\n",
    "print(f'In 2020 the world average life expectancy for low PPP countries was {life_poor_2020}years and for higher than £15,000 PPP countries {life_rich_2020}years')\n",
    "life_richer_2010 = pppVSlife2010[pppVSlife2010[gdp_ppp] > 25000][life].mean()\n",
    "life_richer_2020 = pppVSlife2020[pppVSlife2020[gdp_ppp] > 25000][life].mean()\n",
    "print(f'In 2010 the world average life expectancy for poor countries was {life_richer_2010}years ')\n",
    "print(f'In 2020 the world average life expectancy for poor countries was {life_richer_2020}years ')"
   ]
  },
  {
   "cell_type": "markdown",
   "metadata": {},
   "source": [
    "# Conclusions\n",
    "There is a strong correlation between the average inhabitant's wealth of a country and their life expectancy. Using the logarithmic adjusted graph you can draw nearly a straight line, while with absolute values of PPP the shape is more curved, showing that the life expectancy is related to GDP Pro Capita up to a point, then there is no much benefit for further increase of PPP. This value seems to be around £10000/15000 PPP for both datasets, where the life expectancy below 70 years is on the left half of the scatterplot. In 2020 living in a country with GDP Pro Capita higher than £15,000 means having a life expectancy of 80 years, while 10 years less living in a poor country. Similar life expectancy is expected in countries for PPP higher than £25,000. In conclusion, as GDP Pro Capite gets larger, the lifespan of the hinabitants is affected at lower rate.\n",
    "\n"
   ]
  },
  {
   "cell_type": "code",
   "execution_count": null,
   "metadata": {},
   "outputs": [],
   "source": []
  },
  {
   "cell_type": "code",
   "execution_count": null,
   "metadata": {},
   "outputs": [],
   "source": []
  }
 ],
 "metadata": {
  "kernelspec": {
   "display_name": "Python 3",
   "language": "python",
   "name": "python3"
  },
  "language_info": {
   "codemirror_mode": {
    "name": "ipython",
    "version": 3
   },
   "file_extension": ".py",
   "mimetype": "text/x-python",
   "name": "python",
   "nbconvert_exporter": "python",
   "pygments_lexer": "ipython3",
   "version": "3.7.6"
  }
 },
 "nbformat": 4,
 "nbformat_minor": 4
}
